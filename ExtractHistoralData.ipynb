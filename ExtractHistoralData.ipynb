{
 "cells": [
  {
   "cell_type": "code",
   "execution_count": 1,
   "id": "817ee7e9-470b-4095-8c02-7668ec22a40d",
   "metadata": {},
   "outputs": [],
   "source": [
    "%load_ext autoreload\n",
    "%autoreload 2"
   ]
  },
  {
   "cell_type": "code",
   "execution_count": null,
   "id": "cf8c339a-3484-4625-88b5-f2dd373f551e",
   "metadata": {},
   "outputs": [],
   "source": [
    "import pandas\n",
    "import pygrib"
   ]
  },
  {
   "cell_type": "code",
   "execution_count": null,
   "id": "9fdb12f7-fb06-4192-a392-347b24714e1c",
   "metadata": {},
   "outputs": [],
   "source": [
    "grib_file = "
   ]
  },
  {
   "cell_type": "code",
   "execution_count": null,
   "id": "aecbdc2d-79aa-4762-834d-341750919df5",
   "metadata": {},
   "outputs": [],
   "source": [
    "with pygrib.open(grib_file) as grbs:\n",
    "    u_msg = grbs.select(name=\"10 metre U wind component\", level=10, forecastTime=simulation_time)[0].values\n",
    "    v_msg = grbs.select(name=\"10 metre V wind component\", level=10, forecastTime=simulation_time)[0].values\n",
    "    lats, lngs = grbs[1].latlons()\n"
   ]
  }
 ],
 "metadata": {
  "kernelspec": {
   "display_name": "Python 3 (ipykernel)",
   "language": "python",
   "name": "python3"
  },
  "language_info": {
   "codemirror_mode": {
    "name": "ipython",
    "version": 3
   },
   "file_extension": ".py",
   "mimetype": "text/x-python",
   "name": "python",
   "nbconvert_exporter": "python",
   "pygments_lexer": "ipython3",
   "version": "3.13.0"
  }
 },
 "nbformat": 4,
 "nbformat_minor": 5
}
