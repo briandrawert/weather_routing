{
 "cells": [
  {
   "cell_type": "code",
   "execution_count": 1,
   "id": "ca6d6e82-4c79-4b8e-98bf-0ecd4e162555",
   "metadata": {},
   "outputs": [],
   "source": [
    "%load_ext autoreload\n",
    "%autoreload 2\n"
   ]
  },
  {
   "cell_type": "code",
   "execution_count": 2,
   "id": "b5116185-9217-497f-8848-4093141b03d5",
   "metadata": {},
   "outputs": [],
   "source": [
    "import weather_routing\n",
    "import pandas\n"
   ]
  },
  {
   "cell_type": "code",
   "execution_count": 3,
   "id": "320dc4d5-1dab-4198-b7a9-618659d7cdb2",
   "metadata": {},
   "outputs": [],
   "source": [
    "##################\n",
    "# Waypoints for the Maridian 400\n",
    "waypoints = pandas.DataFrame([\n",
    "    (34.14104 , -119.25085,  'Channel Islands Start'),\n",
    "    (32.72304, -121.86329 ,  'Meridian 400 Waypoint # 1 '),\n",
    "    (31.65268 , -120.68278,  'Meridian 400 Waypoint # 2 '),\n",
    "    (32.43059 , -119.12433,  'Cortez Bank Buoy'),\n",
    "    (33.50608 , -118.62886,  'Catalina West End Gate'),\n",
    "            ], columns=['lat', 'lng', 'name'])\n",
    "##################"
   ]
  },
  {
   "cell_type": "code",
   "execution_count": 4,
   "id": "2f6a01ed-c353-488b-a91f-9ecb49fdfd0b",
   "metadata": {},
   "outputs": [
    {
     "data": {
      "text/html": [
       "<div>\n",
       "<style scoped>\n",
       "    .dataframe tbody tr th:only-of-type {\n",
       "        vertical-align: middle;\n",
       "    }\n",
       "\n",
       "    .dataframe tbody tr th {\n",
       "        vertical-align: top;\n",
       "    }\n",
       "\n",
       "    .dataframe thead th {\n",
       "        text-align: right;\n",
       "    }\n",
       "</style>\n",
       "<table border=\"1\" class=\"dataframe\">\n",
       "  <thead>\n",
       "    <tr style=\"text-align: right;\">\n",
       "      <th></th>\n",
       "      <th>lat</th>\n",
       "      <th>lng</th>\n",
       "      <th>name</th>\n",
       "    </tr>\n",
       "  </thead>\n",
       "  <tbody>\n",
       "    <tr>\n",
       "      <th>0</th>\n",
       "      <td>34.14104</td>\n",
       "      <td>-119.25085</td>\n",
       "      <td>Channel Islands Start</td>\n",
       "    </tr>\n",
       "    <tr>\n",
       "      <th>1</th>\n",
       "      <td>32.72304</td>\n",
       "      <td>-121.86329</td>\n",
       "      <td>Meridian 400 Waypoint # 1</td>\n",
       "    </tr>\n",
       "    <tr>\n",
       "      <th>2</th>\n",
       "      <td>31.65268</td>\n",
       "      <td>-120.68278</td>\n",
       "      <td>Meridian 400 Waypoint # 2</td>\n",
       "    </tr>\n",
       "    <tr>\n",
       "      <th>3</th>\n",
       "      <td>32.43059</td>\n",
       "      <td>-119.12433</td>\n",
       "      <td>Cortez Bank Buoy</td>\n",
       "    </tr>\n",
       "    <tr>\n",
       "      <th>4</th>\n",
       "      <td>33.50608</td>\n",
       "      <td>-118.62886</td>\n",
       "      <td>Catalina West End Gate</td>\n",
       "    </tr>\n",
       "  </tbody>\n",
       "</table>\n",
       "</div>"
      ],
      "text/plain": [
       "        lat        lng                        name\n",
       "0  34.14104 -119.25085       Channel Islands Start\n",
       "1  32.72304 -121.86329  Meridian 400 Waypoint # 1 \n",
       "2  31.65268 -120.68278  Meridian 400 Waypoint # 2 \n",
       "3  32.43059 -119.12433            Cortez Bank Buoy\n",
       "4  33.50608 -118.62886      Catalina West End Gate"
      ]
     },
     "execution_count": 4,
     "metadata": {},
     "output_type": "execute_result"
    }
   ],
   "source": [
    "waypoints"
   ]
  },
  {
   "cell_type": "code",
   "execution_count": 5,
   "id": "fb9a06f3-1d5a-479a-9d9a-372da94b5f0d",
   "metadata": {
    "scrolled": true
   },
   "outputs": [
    {
     "name": "stdout",
     "output_type": "stream",
     "text": [
      "Channel Islands Start at 2024-12-24 04:00:00-08:00\n",
      "starting time: 20241224 12 2024-12-24 04:00:00-08:00\n",
      "Starting download GRIB2 file downloaded: grib_files/20241224-12-gfs.t12z.pgrb2.0p25.f000_34.39104_33.89104_240.99915_240.49915\n",
      "0: twa=120 mag=203.7 dtg=154.5 sog=1.9\n",
      "Starting download GRIB2 file downloaded: grib_files/20241224-12-gfs.t12z.pgrb2.0p25.f001_34.36147743956562_33.86147743956562_240.98346200731612_240.48346200731612\n",
      "1: twa=52 mag=281.8 dtg=152.9 sog=2.2\n",
      "Starting download GRIB2 file downloaded: grib_files/20241224-12-gfs.t12z.pgrb2.0p25.f002_34.36898265679064_33.86898265679064_240.93990730764148_240.43990730764148\n",
      "2: twa=75 mag=199.1 dtg=148.6 sog=5.5\n",
      "Starting download GRIB2 file downloaded: grib_files/20241224-12-gfs.t12z.pgrb2.0p25.f003_34.28174621016339_33.78174621016339_240.90350644471573_240.40350644471573\n",
      "3: twa=75 mag=199.7 dtg=145.2 sog=4.4\n",
      "Starting download GRIB2 file downloaded: grib_files/20241224-12-gfs.t12z.pgrb2.0p25.f004_34.21259012342549_33.71259012342549_240.8736695929074_240.3736695929074\n",
      "4: twa=75 mag=214.6 dtg=140.2 sog=5.6\n",
      "Starting download GRIB2 file downloaded: grib_files/20241224-12-gfs.t12z.pgrb2.0p25.f005_34.13537880781374_33.63537880781374_240.80954472826465_240.30954472826465\n",
      "5: twa=60 mag=207.2 dtg=136.6 sog=4.3\n",
      "Starting download GRIB2 file downloaded: grib_files/20241224-12-gfs.t12z.pgrb2.0p25.f006_34.07162447553904_33.57162447553904_240.7700464501604_240.2700464501604\n",
      "6: twa=60 mag=211.4 dtg=130.9 sog=6.7\n",
      "Starting download GRIB2 file downloaded: grib_files/20241224-12-gfs.t12z.pgrb2.0p25.f007_33.97673900634135_33.47673900634135_240.70053960409354_240.20053960409354\n",
      "7: twa=90 mag=232.3 dtg=122.2 sog=8.9\n",
      "Starting download GRIB2 file downloaded: grib_files/20241224-12-gfs.t12z.pgrb2.0p25.f008_33.88617419335716_33.38617419335716_240.55976881161604_240.05976881161604\n",
      "8: twa=75 mag=240.2 dtg=113.7 sog=8.5\n",
      "Starting download GRIB2 file downloaded: grib_files/20241224-12-gfs.t12z.pgrb2.0p25.f009_33.81588976183962_33.31588976183962_240.4129148423064_239.9129148423064\n",
      "9: twa=75 mag=236.2 dtg=105.6 sog=8.2\n",
      "Starting download GRIB2 file downloaded: grib_files/20241224-12-gfs.t12z.pgrb2.0p25.f010_33.739579715711024_33.239579715711024_240.27631890524643_239.77631890524643\n",
      "10: twa=75 mag=230.1 dtg=97.4 sog=8.5\n",
      "Starting download GRIB2 file downloaded: grib_files/20241224-12-gfs.t12z.pgrb2.0p25.f011_33.648956355985824_33.148956355985824_240.14675166826794_239.64675166826794\n",
      "11: twa=75 mag=240.2 dtg=89.0 sog=8.5\n",
      "Starting download GRIB2 file downloaded: grib_files/20241224-12-gfs.t12z.pgrb2.0p25.f012_33.57883010743707_33.07883010743707_240.00019051476835_239.50019051476835\n",
      "12: twa=75 mag=238.2 dtg=80.6 sog=8.5\n",
      "Starting download GRIB2 file downloaded: grib_files/20241224-12-gfs.t12z.pgrb2.0p25.f013_33.50433957337268_33.00433957337268_239.8568683516204_239.3568683516204\n",
      "13: twa=75 mag=238.1 dtg=72.3 sog=8.5\n",
      "Starting download GRIB2 file downloaded: grib_files/20241224-12-gfs.t12z.pgrb2.0p25.f014_33.42975911628189_32.92975911628189_239.7137352852792_239.2137352852792\n",
      "14: twa=90 mag=234.3 dtg=63.7 sog=8.9\n",
      "Starting download GRIB2 file downloaded: grib_files/20241224-12-gfs.t12z.pgrb2.0p25.f015_33.343362347480834_32.843362347480834_239.5701342593439_239.0701342593439\n",
      "15: twa=75 mag=246.0 dtg=55.2 sog=8.5\n",
      "Starting download GRIB2 file downloaded: grib_files/20241224-12-gfs.t12z.pgrb2.0p25.f016_33.28590480882723_32.78590480882723_239.41639712696653_238.91639712696653\n",
      "16: twa=75 mag=247.8 dtg=46.8 sog=8.5\n",
      "Starting download GRIB2 file downloaded: grib_files/20241224-12-gfs.t12z.pgrb2.0p25.f017_33.23260604828017_32.73260604828017_239.26063957838699_238.76063957838699\n",
      "17: twa=90 mag=236.4 dtg=38.2 sog=8.9\n",
      "Starting download GRIB2 file downloaded: grib_files/20241224-12-gfs.t12z.pgrb2.0p25.f018_33.15062896641455_32.65062896641455_239.1137151447467_238.6137151447467\n",
      "18: twa=90 mag=241.2 dtg=29.6 sog=8.9\n",
      "Starting download GRIB2 file downloaded: grib_files/20241224-12-gfs.t12z.pgrb2.0p25.f019_33.07923294150381_32.57923294150381_238.95928181816936_238.45928181816936\n",
      "19: twa=75 mag=253.9 dtg=21.2 sog=8.5\n",
      "Starting download GRIB2 file downloaded: grib_files/20241224-12-gfs.t12z.pgrb2.0p25.f020_33.03999984358083_32.53999984358083_238.79805613647503_238.29805613647503\n",
      "20: twa=75 mag=249.1 dtg=12.9 sog=8.5\n",
      "Starting download GRIB2 file downloaded: grib_files/20241224-12-gfs.t12z.pgrb2.0p25.f021_32.989529223553625_32.489529223553625_238.64139747419807_238.14139747419807\n",
      "21: twa=60 mag=262.2 dtg=5.1 sog=7.8\n",
      "Starting download GRIB2 file downloaded: grib_files/20241224-12-gfs.t12z.pgrb2.0p25.f022_32.97162291901662_32.47162291901662_238.48743914617856_237.98743914617856\n",
      "22: twa=41.9 mag=289.1 dtg=2.5 sog=6.8\n",
      "Starting download GRIB2 file downloaded: grib_files/20241224-12-gfs.t12z.pgrb2.0p25.f023_33.00854416582025_32.50854416582025_238.36077515020065_237.86077515020065\n",
      "Meridian 400 Waypoint # 1  at 2024-12-25 03:00:00-08:00\n",
      "starting time: 20241224 12 2024-12-25 03:00:00-08:00\n",
      "Using GRIB2 file: grib_files/20241224-12-gfs.t12z.pgrb2.0p25.f023_33.00854416582025_32.50854416582025_238.36077515020065_237.86077515020065\n",
      "23: twa=150 mag=121.1 dtg=82.4 sog=8.3\n",
      "Starting download GRIB2 file downloaded: grib_files/20241224-12-gfs.t12z.pgrb2.0p25.f024_32.93720306040454_32.43720306040454_238.50129052647813_238.00129052647813\n",
      "24: twa=165 mag=134.7 dtg=74.6 sog=7.9\n",
      "Starting download GRIB2 file downloaded: grib_files/20241224-12-gfs.t12z.pgrb2.0p25.f025_32.844963996416766_32.344963996416766_238.6118893440613_238.1118893440613\n",
      "25: twa=165 mag=134.1 dtg=66.7 sog=7.9\n",
      "Starting download GRIB2 file downloaded: grib_files/20241224-12-gfs.t12z.pgrb2.0p25.f026_32.753694900104044_32.253694900104044_238.72350290648137_238.22350290648137\n",
      "26: twa=165 mag=136.7 dtg=58.9 sog=7.9\n",
      "Starting download GRIB2 file downloaded: grib_files/20241224-12-gfs.t12z.pgrb2.0p25.f027_32.6583115040102_32.1583115040102_238.8300542593495_238.3300542593495\n",
      "27: twa=165 mag=134.4 dtg=51.1 sog=7.9\n",
      "Starting download GRIB2 file downloaded: grib_files/20241224-12-gfs.t12z.pgrb2.0p25.f028_32.56657007185027_32.06657007185027_238.94089131343532_238.44089131343532\n",
      "28: twa=165 mag=131.9 dtg=43.3 sog=7.9\n",
      "Starting download GRIB2 file downloaded: grib_files/20241224-12-gfs.t12z.pgrb2.0p25.f029_32.47904607681079_31.97904607681079_239.05629544980275_238.55629544980275\n",
      "29: twa=165 mag=133.3 dtg=35.6 sog=7.9\n",
      "Starting download GRIB2 file downloaded: grib_files/20241224-12-gfs.t12z.pgrb2.0p25.f030_32.38910934451453_31.88910934451453_239.16896480043522_238.66896480043522\n",
      "30: twa=165 mag=135.9 dtg=27.8 sog=7.9\n",
      "Starting download GRIB2 file downloaded: grib_files/20241224-12-gfs.t12z.pgrb2.0p25.f031_32.29486479483702_31.794864794837018_239.27649774135708_238.77649774135708\n",
      "31: twa=170.7 mag=143.1 dtg=20.1 sog=7.7\n",
      "Starting download GRIB2 file downloaded: grib_files/20241224-12-gfs.t12z.pgrb2.0p25.f032_32.19182397796959_31.69182397796959_239.36751163078839_238.86751163078839\n",
      "32: twa=170.7 mag=144.1 dtg=12.5 sog=7.7\n",
      "Starting download GRIB2 file downloaded: grib_files/20241224-12-gfs.t12z.pgrb2.0p25.f033_32.08744504186443_31.58744504186443_239.4562801677295_238.9562801677295\n",
      "33: twa=180 mag=152.6 dtg=4.9 sog=7.6\n",
      "Starting download GRIB2 file downloaded: grib_files/20241224-12-gfs.t12z.pgrb2.0p25.f034_31.975662386254143_31.475662386254143_239.52446227420234_239.02446227420234\n",
      "34: twa=180 mag=149.7 dtg=2.7 sog=7.6\n",
      "Starting download GRIB2 file downloaded: grib_files/20241224-12-gfs.t12z.pgrb2.0p25.f035_31.866900365610764_31.366900365610764_239.5990107745968_239.0990107745968\n",
      "Meridian 400 Waypoint # 2  at 2024-12-25 15:00:00-08:00\n",
      "starting time: 20241224 12 2024-12-25 15:00:00-08:00\n",
      "Using GRIB2 file: grib_files/20241224-12-gfs.t12z.pgrb2.0p25.f035_31.866900365610764_31.366900365610764_239.5990107745968_239.0990107745968\n",
      "35: twa=90 mag=56.8 dtg=82.9 sog=8.9\n",
      "Starting download GRIB2 file downloaded: grib_files/20241224-12-gfs.t12z.pgrb2.0p25.f036_31.94797048532794_31.44797048532794_239.74457079739884_239.24457079739884\n",
      "36: twa=90 mag=58.5 dtg=74.0 sog=8.9\n",
      "Starting download GRIB2 file downloaded: grib_files/20241224-12-gfs.t12z.pgrb2.0p25.f037_32.02517587649865_31.525175876498647_239.8931291402489_239.3931291402489\n",
      "37: twa=90 mag=57.0 dtg=65.1 sog=8.9\n",
      "Starting download GRIB2 file downloaded: grib_files/20241224-12-gfs.t12z.pgrb2.0p25.f038_32.105671569142615_31.60567156914262_240.03937770076152_239.53937770076152\n",
      "38: twa=90 mag=54.5 dtg=56.3 sog=8.9\n",
      "Starting download GRIB2 file downloaded: grib_files/20241224-12-gfs.t12z.pgrb2.0p25.f039_32.191530848717505_31.69153084871751_240.18146693070474_239.68146693070474\n",
      "39: twa=90 mag=57.2 dtg=47.4 sog=8.9\n",
      "Starting download GRIB2 file downloaded: grib_files/20241224-12-gfs.t12z.pgrb2.0p25.f040_32.27164597436938_31.771645974369378_240.32826935608531_239.82826935608531\n",
      "40: twa=90 mag=56.9 dtg=38.5 sog=8.9\n",
      "Starting download GRIB2 file downloaded: grib_files/20241224-12-gfs.t12z.pgrb2.0p25.f041_32.35252446735556_31.852524467355558_240.4746173692683_239.9746173692683\n",
      "41: twa=90 mag=55.3 dtg=29.6 sog=8.9\n",
      "Starting download GRIB2 file downloaded: grib_files/20241224-12-gfs.t12z.pgrb2.0p25.f042_32.436781309404154_31.936781309404154_240.61841698043634_240.11841698043634\n",
      "42: twa=90 mag=55.3 dtg=20.8 sog=8.9\n",
      "Starting download GRIB2 file downloaded: grib_files/20241224-12-gfs.t12z.pgrb2.0p25.f043_32.52095693020432_32.02095693020432_240.76241608422788_240.26241608422788\n",
      "43: twa=110 mag=73.9 dtg=11.8 sog=9.3\n",
      "Starting download GRIB2 file downloaded: grib_files/20241224-12-gfs.t12z.pgrb2.0p25.f044_32.56379858255715_32.06379858255715_240.93829912942255_240.43829912942255\n",
      "44: twa=90 mag=59.1 dtg=3.1 sog=8.9\n",
      "Starting download GRIB2 file downloaded: grib_files/20241224-12-gfs.t12z.pgrb2.0p25.f045_32.63967616539433_32.13967616539433_241.08880842926249_240.58880842926249\n",
      "Cortez Bank Buoy at 2024-12-26 01:00:00-08:00\n",
      "starting time: 20241224 12 2024-12-26 01:00:00-08:00\n",
      "Using GRIB2 file: grib_files/20241224-12-gfs.t12z.pgrb2.0p25.f045_32.63967616539433_32.13967616539433_241.08880842926249_240.58880842926249\n",
      "45: twa=75 mag=40.7 dtg=64.2 sog=8.5\n",
      "Starting download GRIB2 file downloaded: grib_files/20241224-12-gfs.t12z.pgrb2.0p25.f046_32.746623156131754_32.246623156131754_241.19781990972993_240.69781990972993\n",
      "46: twa=60 mag=29.0 dtg=56.5 sog=7.8\n",
      "Starting download GRIB2 file downloaded: grib_files/20241224-12-gfs.t12z.pgrb2.0p25.f047_32.860942960774175_32.360942960774175_241.27309114514964_240.77309114514964\n",
      "47: twa=60 mag=27.8 dtg=49.5 sog=7.2\n",
      "Starting download GRIB2 file downloaded: grib_files/20241224-12-gfs.t12z.pgrb2.0p25.f048_32.9665144142144_32.4665144142144_241.3393952422885_240.8393952422885\n",
      "48: twa=60 mag=33.1 dtg=42.7 sog=7.2\n",
      "Starting download GRIB2 file downloaded: grib_files/20241224-12-gfs.t12z.pgrb2.0p25.f049_33.06650867836633_32.56650867836633_241.41703411823823_240.91703411823823\n",
      "49: twa=75 mag=29.9 dtg=35.5 sog=7.5\n",
      "Starting download GRIB2 file downloaded: grib_files/20241224-12-gfs.t12z.pgrb2.0p25.f050_33.17478103911052_32.67478103911052_241.4912074625588_240.9912074625588\n",
      "50: twa=60 mag=33.4 dtg=30.3 sog=5.8\n",
      "Starting download GRIB2 file downloaded: grib_files/20241224-12-gfs.t12z.pgrb2.0p25.f051_33.25529341954062_32.75529341954062_241.55447276279472_241.05447276279472\n",
      "51: twa=90 mag=25.9 dtg=27.6 sog=2.8\n",
      "Starting download GRIB2 file downloaded: grib_files/20241224-12-gfs.t12z.pgrb2.0p25.f052_33.29702855296603_32.79702855296603_241.57865342246401_241.07865342246401\n",
      "52: twa=110 mag=354.3 dtg=24.0 sog=3.7\n",
      "Starting download GRIB2 file downloaded: grib_files/20241224-12-gfs.t12z.pgrb2.0p25.f053_33.35892274818066_32.85892274818066_241.57130799002928_241.07130799002928\n",
      "53: twa=90 mag=15.6 dtg=16.9 sog=7.2\n",
      "Starting download GRIB2 file downloaded: grib_files/20241224-12-gfs.t12z.pgrb2.0p25.f054_33.47460261751252_32.97460261751252_241.60981020583222_241.10981020583222\n",
      "54: twa=75 mag=12.7 dtg=11.5 sog=5.5\n",
      "Starting download GRIB2 file downloaded: grib_files/20241224-12-gfs.t12z.pgrb2.0p25.f055_33.56451321324727_33.06451321324727_241.63407985212137_241.13407985212137\n",
      "55: twa=75 mag=6.3 dtg=8.0 sog=3.6\n",
      "Starting download GRIB2 file downloaded: grib_files/20241224-12-gfs.t12z.pgrb2.0p25.f056_33.624644820865626_33.124644820865626_241.64207154441522_241.14207154441522\n",
      "56: twa=75 mag=12.4 dtg=5.0 sog=3.2\n",
      "Starting download GRIB2 file downloaded: grib_files/20241224-12-gfs.t12z.pgrb2.0p25.f057_33.677167324422_33.177167324422_241.65592064459412_241.15592064459412\n",
      "57: twa=48.2 mag=8.8 dtg=3.5 sog=2.0\n",
      "Starting download GRIB2 file downloaded: grib_files/20241224-12-gfs.t12z.pgrb2.0p25.f058_33.709528442708184_33.209528442708184_241.66192545068967_241.16192545068967\n",
      "Catalina West End Gate at 2024-12-26 14:00:00-08:00\n",
      "route calculated in 16.0s\n"
     ]
    }
   ],
   "source": [
    "route = weather_routing.route_shortest_path(waypoints, hour_offset=0)"
   ]
  },
  {
   "cell_type": "code",
   "execution_count": 6,
   "id": "6e008627-989a-4b67-b0d0-332bc14024d4",
   "metadata": {},
   "outputs": [
    {
     "data": {
      "text/html": [
       "<div>\n",
       "<style scoped>\n",
       "    .dataframe tbody tr th:only-of-type {\n",
       "        vertical-align: middle;\n",
       "    }\n",
       "\n",
       "    .dataframe tbody tr th {\n",
       "        vertical-align: top;\n",
       "    }\n",
       "\n",
       "    .dataframe thead th {\n",
       "        text-align: right;\n",
       "    }\n",
       "</style>\n",
       "<table border=\"1\" class=\"dataframe\">\n",
       "  <thead>\n",
       "    <tr style=\"text-align: right;\">\n",
       "      <th></th>\n",
       "      <th>lat</th>\n",
       "      <th>lng</th>\n",
       "      <th>date</th>\n",
       "      <th>twa</th>\n",
       "      <th>mag</th>\n",
       "      <th>dtg</th>\n",
       "      <th>sog</th>\n",
       "    </tr>\n",
       "  </thead>\n",
       "  <tbody>\n",
       "    <tr>\n",
       "      <th>0</th>\n",
       "      <td>34.141040</td>\n",
       "      <td>-119.250850</td>\n",
       "      <td>2024-12-24 04:00:00-08:00</td>\n",
       "      <td>NaN</td>\n",
       "      <td>NaN</td>\n",
       "      <td>NaN</td>\n",
       "      <td>NaN</td>\n",
       "    </tr>\n",
       "    <tr>\n",
       "      <th>1</th>\n",
       "      <td>34.111477</td>\n",
       "      <td>-119.266538</td>\n",
       "      <td>2024-12-24 05:00:00-08:00</td>\n",
       "      <td>120.0</td>\n",
       "      <td>203.719862</td>\n",
       "      <td>154.537156</td>\n",
       "      <td>1.938662</td>\n",
       "    </tr>\n",
       "    <tr>\n",
       "      <th>2</th>\n",
       "      <td>34.118983</td>\n",
       "      <td>-119.310093</td>\n",
       "      <td>2024-12-24 06:00:00-08:00</td>\n",
       "      <td>52.0</td>\n",
       "      <td>281.769593</td>\n",
       "      <td>152.945787</td>\n",
       "      <td>2.211422</td>\n",
       "    </tr>\n",
       "    <tr>\n",
       "      <th>3</th>\n",
       "      <td>34.031746</td>\n",
       "      <td>-119.346494</td>\n",
       "      <td>2024-12-24 07:00:00-08:00</td>\n",
       "      <td>75.0</td>\n",
       "      <td>199.076503</td>\n",
       "      <td>148.642889</td>\n",
       "      <td>5.541729</td>\n",
       "    </tr>\n",
       "    <tr>\n",
       "      <th>4</th>\n",
       "      <td>33.962590</td>\n",
       "      <td>-119.376330</td>\n",
       "      <td>2024-12-24 08:00:00-08:00</td>\n",
       "      <td>75.0</td>\n",
       "      <td>199.690153</td>\n",
       "      <td>145.247135</td>\n",
       "      <td>4.409794</td>\n",
       "    </tr>\n",
       "    <tr>\n",
       "      <th>5</th>\n",
       "      <td>33.885379</td>\n",
       "      <td>-119.440455</td>\n",
       "      <td>2024-12-24 09:00:00-08:00</td>\n",
       "      <td>75.0</td>\n",
       "      <td>214.590201</td>\n",
       "      <td>140.176762</td>\n",
       "      <td>5.630000</td>\n",
       "    </tr>\n",
       "    <tr>\n",
       "      <th>6</th>\n",
       "      <td>33.821624</td>\n",
       "      <td>-119.479954</td>\n",
       "      <td>2024-12-24 10:00:00-08:00</td>\n",
       "      <td>60.0</td>\n",
       "      <td>207.237051</td>\n",
       "      <td>136.610956</td>\n",
       "      <td>4.304772</td>\n",
       "    </tr>\n",
       "    <tr>\n",
       "      <th>7</th>\n",
       "      <td>33.726739</td>\n",
       "      <td>-119.549460</td>\n",
       "      <td>2024-12-24 11:00:00-08:00</td>\n",
       "      <td>60.0</td>\n",
       "      <td>211.356898</td>\n",
       "      <td>130.903456</td>\n",
       "      <td>6.670000</td>\n",
       "    </tr>\n",
       "    <tr>\n",
       "      <th>8</th>\n",
       "      <td>33.636174</td>\n",
       "      <td>-119.690231</td>\n",
       "      <td>2024-12-24 12:00:00-08:00</td>\n",
       "      <td>90.0</td>\n",
       "      <td>232.330281</td>\n",
       "      <td>122.185343</td>\n",
       "      <td>8.890000</td>\n",
       "    </tr>\n",
       "    <tr>\n",
       "      <th>9</th>\n",
       "      <td>33.565890</td>\n",
       "      <td>-119.837085</td>\n",
       "      <td>2024-12-24 13:00:00-08:00</td>\n",
       "      <td>75.0</td>\n",
       "      <td>240.158457</td>\n",
       "      <td>113.735135</td>\n",
       "      <td>8.470000</td>\n",
       "    </tr>\n",
       "    <tr>\n",
       "      <th>10</th>\n",
       "      <td>33.489580</td>\n",
       "      <td>-119.973681</td>\n",
       "      <td>2024-12-24 14:00:00-08:00</td>\n",
       "      <td>75.0</td>\n",
       "      <td>236.209445</td>\n",
       "      <td>105.589908</td>\n",
       "      <td>8.230000</td>\n",
       "    </tr>\n",
       "    <tr>\n",
       "      <th>11</th>\n",
       "      <td>33.398956</td>\n",
       "      <td>-120.103248</td>\n",
       "      <td>2024-12-24 15:00:00-08:00</td>\n",
       "      <td>75.0</td>\n",
       "      <td>230.065240</td>\n",
       "      <td>97.417333</td>\n",
       "      <td>8.470000</td>\n",
       "    </tr>\n",
       "    <tr>\n",
       "      <th>12</th>\n",
       "      <td>33.328830</td>\n",
       "      <td>-120.249809</td>\n",
       "      <td>2024-12-24 16:00:00-08:00</td>\n",
       "      <td>75.0</td>\n",
       "      <td>240.232192</td>\n",
       "      <td>88.992090</td>\n",
       "      <td>8.470000</td>\n",
       "    </tr>\n",
       "    <tr>\n",
       "      <th>13</th>\n",
       "      <td>33.254340</td>\n",
       "      <td>-120.393132</td>\n",
       "      <td>2024-12-24 17:00:00-08:00</td>\n",
       "      <td>75.0</td>\n",
       "      <td>238.166656</td>\n",
       "      <td>80.616603</td>\n",
       "      <td>8.470000</td>\n",
       "    </tr>\n",
       "    <tr>\n",
       "      <th>14</th>\n",
       "      <td>33.179759</td>\n",
       "      <td>-120.536265</td>\n",
       "      <td>2024-12-24 18:00:00-08:00</td>\n",
       "      <td>75.0</td>\n",
       "      <td>238.123510</td>\n",
       "      <td>72.262232</td>\n",
       "      <td>8.470000</td>\n",
       "    </tr>\n",
       "    <tr>\n",
       "      <th>15</th>\n",
       "      <td>33.093362</td>\n",
       "      <td>-120.679866</td>\n",
       "      <td>2024-12-24 19:00:00-08:00</td>\n",
       "      <td>90.0</td>\n",
       "      <td>234.342286</td>\n",
       "      <td>63.660766</td>\n",
       "      <td>8.890000</td>\n",
       "    </tr>\n",
       "    <tr>\n",
       "      <th>16</th>\n",
       "      <td>33.035905</td>\n",
       "      <td>-120.833603</td>\n",
       "      <td>2024-12-24 20:00:00-08:00</td>\n",
       "      <td>75.0</td>\n",
       "      <td>246.007018</td>\n",
       "      <td>55.213074</td>\n",
       "      <td>8.470000</td>\n",
       "    </tr>\n",
       "    <tr>\n",
       "      <th>17</th>\n",
       "      <td>32.982606</td>\n",
       "      <td>-120.989360</td>\n",
       "      <td>2024-12-24 21:00:00-08:00</td>\n",
       "      <td>75.0</td>\n",
       "      <td>247.844118</td>\n",
       "      <td>46.752948</td>\n",
       "      <td>8.470000</td>\n",
       "    </tr>\n",
       "    <tr>\n",
       "      <th>18</th>\n",
       "      <td>32.900629</td>\n",
       "      <td>-121.136285</td>\n",
       "      <td>2024-12-24 22:00:00-08:00</td>\n",
       "      <td>90.0</td>\n",
       "      <td>236.422243</td>\n",
       "      <td>38.203613</td>\n",
       "      <td>8.890000</td>\n",
       "    </tr>\n",
       "    <tr>\n",
       "      <th>19</th>\n",
       "      <td>32.829233</td>\n",
       "      <td>-121.290718</td>\n",
       "      <td>2024-12-24 23:00:00-08:00</td>\n",
       "      <td>90.0</td>\n",
       "      <td>241.213531</td>\n",
       "      <td>29.599129</td>\n",
       "      <td>8.890000</td>\n",
       "    </tr>\n",
       "    <tr>\n",
       "      <th>20</th>\n",
       "      <td>32.790000</td>\n",
       "      <td>-121.451944</td>\n",
       "      <td>2024-12-25 00:00:00-08:00</td>\n",
       "      <td>75.0</td>\n",
       "      <td>253.896386</td>\n",
       "      <td>21.155464</td>\n",
       "      <td>8.470000</td>\n",
       "    </tr>\n",
       "    <tr>\n",
       "      <th>21</th>\n",
       "      <td>32.739529</td>\n",
       "      <td>-121.608603</td>\n",
       "      <td>2024-12-25 01:00:00-08:00</td>\n",
       "      <td>75.0</td>\n",
       "      <td>249.079336</td>\n",
       "      <td>12.901533</td>\n",
       "      <td>8.470000</td>\n",
       "    </tr>\n",
       "    <tr>\n",
       "      <th>22</th>\n",
       "      <td>32.721623</td>\n",
       "      <td>-121.762561</td>\n",
       "      <td>2024-12-25 02:00:00-08:00</td>\n",
       "      <td>60.0</td>\n",
       "      <td>262.169900</td>\n",
       "      <td>5.088747</td>\n",
       "      <td>7.850000</td>\n",
       "    </tr>\n",
       "    <tr>\n",
       "      <th>23</th>\n",
       "      <td>32.758544</td>\n",
       "      <td>-121.889225</td>\n",
       "      <td>2024-12-25 03:00:00-08:00</td>\n",
       "      <td>41.9</td>\n",
       "      <td>289.147709</td>\n",
       "      <td>2.501906</td>\n",
       "      <td>6.770000</td>\n",
       "    </tr>\n",
       "    <tr>\n",
       "      <th>24</th>\n",
       "      <td>32.687203</td>\n",
       "      <td>-121.748709</td>\n",
       "      <td>2024-12-25 04:00:00-08:00</td>\n",
       "      <td>150.0</td>\n",
       "      <td>121.072426</td>\n",
       "      <td>82.417257</td>\n",
       "      <td>8.290000</td>\n",
       "    </tr>\n",
       "    <tr>\n",
       "      <th>25</th>\n",
       "      <td>32.594964</td>\n",
       "      <td>-121.638111</td>\n",
       "      <td>2024-12-25 05:00:00-08:00</td>\n",
       "      <td>165.0</td>\n",
       "      <td>134.694326</td>\n",
       "      <td>74.567679</td>\n",
       "      <td>7.870000</td>\n",
       "    </tr>\n",
       "    <tr>\n",
       "      <th>26</th>\n",
       "      <td>32.503695</td>\n",
       "      <td>-121.526497</td>\n",
       "      <td>2024-12-25 06:00:00-08:00</td>\n",
       "      <td>165.0</td>\n",
       "      <td>134.100425</td>\n",
       "      <td>66.731076</td>\n",
       "      <td>7.870000</td>\n",
       "    </tr>\n",
       "    <tr>\n",
       "      <th>27</th>\n",
       "      <td>32.408312</td>\n",
       "      <td>-121.419946</td>\n",
       "      <td>2024-12-25 07:00:00-08:00</td>\n",
       "      <td>165.0</td>\n",
       "      <td>136.663868</td>\n",
       "      <td>58.873955</td>\n",
       "      <td>7.870000</td>\n",
       "    </tr>\n",
       "    <tr>\n",
       "      <th>28</th>\n",
       "      <td>32.316570</td>\n",
       "      <td>-121.309109</td>\n",
       "      <td>2024-12-25 08:00:00-08:00</td>\n",
       "      <td>165.0</td>\n",
       "      <td>134.389143</td>\n",
       "      <td>51.050797</td>\n",
       "      <td>7.870000</td>\n",
       "    </tr>\n",
       "    <tr>\n",
       "      <th>29</th>\n",
       "      <td>32.229046</td>\n",
       "      <td>-121.193705</td>\n",
       "      <td>2024-12-25 09:00:00-08:00</td>\n",
       "      <td>165.0</td>\n",
       "      <td>131.860747</td>\n",
       "      <td>43.303082</td>\n",
       "      <td>7.870000</td>\n",
       "    </tr>\n",
       "    <tr>\n",
       "      <th>30</th>\n",
       "      <td>32.139109</td>\n",
       "      <td>-121.081035</td>\n",
       "      <td>2024-12-25 10:00:00-08:00</td>\n",
       "      <td>165.0</td>\n",
       "      <td>133.294512</td>\n",
       "      <td>35.568016</td>\n",
       "      <td>7.870000</td>\n",
       "    </tr>\n",
       "    <tr>\n",
       "      <th>31</th>\n",
       "      <td>32.044865</td>\n",
       "      <td>-120.973502</td>\n",
       "      <td>2024-12-25 11:00:00-08:00</td>\n",
       "      <td>165.0</td>\n",
       "      <td>135.942936</td>\n",
       "      <td>27.826261</td>\n",
       "      <td>7.870000</td>\n",
       "    </tr>\n",
       "    <tr>\n",
       "      <th>32</th>\n",
       "      <td>31.941824</td>\n",
       "      <td>-120.882488</td>\n",
       "      <td>2024-12-25 12:00:00-08:00</td>\n",
       "      <td>170.7</td>\n",
       "      <td>143.138329</td>\n",
       "      <td>20.130513</td>\n",
       "      <td>7.730000</td>\n",
       "    </tr>\n",
       "    <tr>\n",
       "      <th>33</th>\n",
       "      <td>31.837445</td>\n",
       "      <td>-120.793720</td>\n",
       "      <td>2024-12-25 13:00:00-08:00</td>\n",
       "      <td>170.7</td>\n",
       "      <td>144.144059</td>\n",
       "      <td>12.455856</td>\n",
       "      <td>7.730000</td>\n",
       "    </tr>\n",
       "    <tr>\n",
       "      <th>34</th>\n",
       "      <td>31.725662</td>\n",
       "      <td>-120.725538</td>\n",
       "      <td>2024-12-25 14:00:00-08:00</td>\n",
       "      <td>180.0</td>\n",
       "      <td>152.575408</td>\n",
       "      <td>4.896207</td>\n",
       "      <td>7.560000</td>\n",
       "    </tr>\n",
       "    <tr>\n",
       "      <th>35</th>\n",
       "      <td>31.616900</td>\n",
       "      <td>-120.650989</td>\n",
       "      <td>2024-12-25 15:00:00-08:00</td>\n",
       "      <td>180.0</td>\n",
       "      <td>149.723275</td>\n",
       "      <td>2.693671</td>\n",
       "      <td>7.560000</td>\n",
       "    </tr>\n",
       "    <tr>\n",
       "      <th>36</th>\n",
       "      <td>31.697970</td>\n",
       "      <td>-120.505429</td>\n",
       "      <td>2024-12-25 16:00:00-08:00</td>\n",
       "      <td>90.0</td>\n",
       "      <td>56.764519</td>\n",
       "      <td>82.902535</td>\n",
       "      <td>8.890000</td>\n",
       "    </tr>\n",
       "    <tr>\n",
       "      <th>37</th>\n",
       "      <td>31.775176</td>\n",
       "      <td>-120.356871</td>\n",
       "      <td>2024-12-25 17:00:00-08:00</td>\n",
       "      <td>90.0</td>\n",
       "      <td>58.533223</td>\n",
       "      <td>74.013883</td>\n",
       "      <td>8.890000</td>\n",
       "    </tr>\n",
       "    <tr>\n",
       "      <th>38</th>\n",
       "      <td>31.855672</td>\n",
       "      <td>-120.210622</td>\n",
       "      <td>2024-12-25 18:00:00-08:00</td>\n",
       "      <td>90.0</td>\n",
       "      <td>57.029400</td>\n",
       "      <td>65.124309</td>\n",
       "      <td>8.890000</td>\n",
       "    </tr>\n",
       "    <tr>\n",
       "      <th>39</th>\n",
       "      <td>31.941531</td>\n",
       "      <td>-120.068533</td>\n",
       "      <td>2024-12-25 19:00:00-08:00</td>\n",
       "      <td>90.0</td>\n",
       "      <td>54.521190</td>\n",
       "      <td>56.250190</td>\n",
       "      <td>8.890000</td>\n",
       "    </tr>\n",
       "    <tr>\n",
       "      <th>40</th>\n",
       "      <td>32.021646</td>\n",
       "      <td>-119.921731</td>\n",
       "      <td>2024-12-25 20:00:00-08:00</td>\n",
       "      <td>90.0</td>\n",
       "      <td>57.204356</td>\n",
       "      <td>47.362057</td>\n",
       "      <td>8.890000</td>\n",
       "    </tr>\n",
       "    <tr>\n",
       "      <th>41</th>\n",
       "      <td>32.102524</td>\n",
       "      <td>-119.775383</td>\n",
       "      <td>2024-12-25 21:00:00-08:00</td>\n",
       "      <td>90.0</td>\n",
       "      <td>56.852443</td>\n",
       "      <td>38.476928</td>\n",
       "      <td>8.890000</td>\n",
       "    </tr>\n",
       "    <tr>\n",
       "      <th>42</th>\n",
       "      <td>32.186781</td>\n",
       "      <td>-119.631583</td>\n",
       "      <td>2024-12-25 22:00:00-08:00</td>\n",
       "      <td>90.0</td>\n",
       "      <td>55.278036</td>\n",
       "      <td>29.611759</td>\n",
       "      <td>8.890000</td>\n",
       "    </tr>\n",
       "    <tr>\n",
       "      <th>43</th>\n",
       "      <td>32.270957</td>\n",
       "      <td>-119.487584</td>\n",
       "      <td>2024-12-25 23:00:00-08:00</td>\n",
       "      <td>90.0</td>\n",
       "      <td>55.316106</td>\n",
       "      <td>20.768554</td>\n",
       "      <td>8.890000</td>\n",
       "    </tr>\n",
       "    <tr>\n",
       "      <th>44</th>\n",
       "      <td>32.313799</td>\n",
       "      <td>-119.311701</td>\n",
       "      <td>2024-12-26 00:00:00-08:00</td>\n",
       "      <td>110.0</td>\n",
       "      <td>73.878840</td>\n",
       "      <td>11.808852</td>\n",
       "      <td>9.290000</td>\n",
       "    </tr>\n",
       "    <tr>\n",
       "      <th>45</th>\n",
       "      <td>32.389676</td>\n",
       "      <td>-119.161192</td>\n",
       "      <td>2024-12-26 01:00:00-08:00</td>\n",
       "      <td>90.0</td>\n",
       "      <td>59.132257</td>\n",
       "      <td>3.086326</td>\n",
       "      <td>8.890000</td>\n",
       "    </tr>\n",
       "    <tr>\n",
       "      <th>46</th>\n",
       "      <td>32.496623</td>\n",
       "      <td>-119.052180</td>\n",
       "      <td>2024-12-26 02:00:00-08:00</td>\n",
       "      <td>75.0</td>\n",
       "      <td>40.673389</td>\n",
       "      <td>64.247087</td>\n",
       "      <td>8.470000</td>\n",
       "    </tr>\n",
       "    <tr>\n",
       "      <th>47</th>\n",
       "      <td>32.610943</td>\n",
       "      <td>-118.976909</td>\n",
       "      <td>2024-12-26 03:00:00-08:00</td>\n",
       "      <td>60.0</td>\n",
       "      <td>29.009124</td>\n",
       "      <td>56.526041</td>\n",
       "      <td>7.850000</td>\n",
       "    </tr>\n",
       "    <tr>\n",
       "      <th>48</th>\n",
       "      <td>32.716514</td>\n",
       "      <td>-118.910605</td>\n",
       "      <td>2024-12-26 04:00:00-08:00</td>\n",
       "      <td>60.0</td>\n",
       "      <td>27.848646</td>\n",
       "      <td>49.478012</td>\n",
       "      <td>7.170000</td>\n",
       "    </tr>\n",
       "    <tr>\n",
       "      <th>49</th>\n",
       "      <td>32.816509</td>\n",
       "      <td>-118.832966</td>\n",
       "      <td>2024-12-26 05:00:00-08:00</td>\n",
       "      <td>60.0</td>\n",
       "      <td>33.119100</td>\n",
       "      <td>42.654186</td>\n",
       "      <td>7.170000</td>\n",
       "    </tr>\n",
       "    <tr>\n",
       "      <th>50</th>\n",
       "      <td>32.924781</td>\n",
       "      <td>-118.758793</td>\n",
       "      <td>2024-12-26 06:00:00-08:00</td>\n",
       "      <td>75.0</td>\n",
       "      <td>29.895258</td>\n",
       "      <td>35.506446</td>\n",
       "      <td>7.500000</td>\n",
       "    </tr>\n",
       "    <tr>\n",
       "      <th>51</th>\n",
       "      <td>33.005293</td>\n",
       "      <td>-118.695527</td>\n",
       "      <td>2024-12-26 07:00:00-08:00</td>\n",
       "      <td>60.0</td>\n",
       "      <td>33.378640</td>\n",
       "      <td>30.253192</td>\n",
       "      <td>5.790000</td>\n",
       "    </tr>\n",
       "    <tr>\n",
       "      <th>52</th>\n",
       "      <td>33.047029</td>\n",
       "      <td>-118.671347</td>\n",
       "      <td>2024-12-26 08:00:00-08:00</td>\n",
       "      <td>90.0</td>\n",
       "      <td>25.902409</td>\n",
       "      <td>27.644045</td>\n",
       "      <td>2.785800</td>\n",
       "    </tr>\n",
       "    <tr>\n",
       "      <th>53</th>\n",
       "      <td>33.108923</td>\n",
       "      <td>-118.678692</td>\n",
       "      <td>2024-12-26 09:00:00-08:00</td>\n",
       "      <td>110.0</td>\n",
       "      <td>354.323008</td>\n",
       "      <td>23.976246</td>\n",
       "      <td>3.734485</td>\n",
       "    </tr>\n",
       "    <tr>\n",
       "      <th>54</th>\n",
       "      <td>33.224603</td>\n",
       "      <td>-118.640190</td>\n",
       "      <td>2024-12-26 10:00:00-08:00</td>\n",
       "      <td>90.0</td>\n",
       "      <td>15.557811</td>\n",
       "      <td>16.909578</td>\n",
       "      <td>7.210000</td>\n",
       "    </tr>\n",
       "    <tr>\n",
       "      <th>55</th>\n",
       "      <td>33.314513</td>\n",
       "      <td>-118.615920</td>\n",
       "      <td>2024-12-26 11:00:00-08:00</td>\n",
       "      <td>75.0</td>\n",
       "      <td>12.711293</td>\n",
       "      <td>11.520027</td>\n",
       "      <td>5.534048</td>\n",
       "    </tr>\n",
       "    <tr>\n",
       "      <th>56</th>\n",
       "      <td>33.374645</td>\n",
       "      <td>-118.607928</td>\n",
       "      <td>2024-12-26 12:00:00-08:00</td>\n",
       "      <td>75.0</td>\n",
       "      <td>6.333110</td>\n",
       "      <td>7.960805</td>\n",
       "      <td>3.632513</td>\n",
       "    </tr>\n",
       "    <tr>\n",
       "      <th>57</th>\n",
       "      <td>33.427167</td>\n",
       "      <td>-118.594079</td>\n",
       "      <td>2024-12-26 13:00:00-08:00</td>\n",
       "      <td>75.0</td>\n",
       "      <td>12.410704</td>\n",
       "      <td>5.048056</td>\n",
       "      <td>3.228976</td>\n",
       "    </tr>\n",
       "    <tr>\n",
       "      <th>58</th>\n",
       "      <td>33.459528</td>\n",
       "      <td>-118.588075</td>\n",
       "      <td>2024-12-26 14:00:00-08:00</td>\n",
       "      <td>48.2</td>\n",
       "      <td>8.799783</td>\n",
       "      <td>3.461693</td>\n",
       "      <td>1.966129</td>\n",
       "    </tr>\n",
       "  </tbody>\n",
       "</table>\n",
       "</div>"
      ],
      "text/plain": [
       "          lat         lng                      date    twa         mag  \\\n",
       "0   34.141040 -119.250850 2024-12-24 04:00:00-08:00    NaN         NaN   \n",
       "1   34.111477 -119.266538 2024-12-24 05:00:00-08:00  120.0  203.719862   \n",
       "2   34.118983 -119.310093 2024-12-24 06:00:00-08:00   52.0  281.769593   \n",
       "3   34.031746 -119.346494 2024-12-24 07:00:00-08:00   75.0  199.076503   \n",
       "4   33.962590 -119.376330 2024-12-24 08:00:00-08:00   75.0  199.690153   \n",
       "5   33.885379 -119.440455 2024-12-24 09:00:00-08:00   75.0  214.590201   \n",
       "6   33.821624 -119.479954 2024-12-24 10:00:00-08:00   60.0  207.237051   \n",
       "7   33.726739 -119.549460 2024-12-24 11:00:00-08:00   60.0  211.356898   \n",
       "8   33.636174 -119.690231 2024-12-24 12:00:00-08:00   90.0  232.330281   \n",
       "9   33.565890 -119.837085 2024-12-24 13:00:00-08:00   75.0  240.158457   \n",
       "10  33.489580 -119.973681 2024-12-24 14:00:00-08:00   75.0  236.209445   \n",
       "11  33.398956 -120.103248 2024-12-24 15:00:00-08:00   75.0  230.065240   \n",
       "12  33.328830 -120.249809 2024-12-24 16:00:00-08:00   75.0  240.232192   \n",
       "13  33.254340 -120.393132 2024-12-24 17:00:00-08:00   75.0  238.166656   \n",
       "14  33.179759 -120.536265 2024-12-24 18:00:00-08:00   75.0  238.123510   \n",
       "15  33.093362 -120.679866 2024-12-24 19:00:00-08:00   90.0  234.342286   \n",
       "16  33.035905 -120.833603 2024-12-24 20:00:00-08:00   75.0  246.007018   \n",
       "17  32.982606 -120.989360 2024-12-24 21:00:00-08:00   75.0  247.844118   \n",
       "18  32.900629 -121.136285 2024-12-24 22:00:00-08:00   90.0  236.422243   \n",
       "19  32.829233 -121.290718 2024-12-24 23:00:00-08:00   90.0  241.213531   \n",
       "20  32.790000 -121.451944 2024-12-25 00:00:00-08:00   75.0  253.896386   \n",
       "21  32.739529 -121.608603 2024-12-25 01:00:00-08:00   75.0  249.079336   \n",
       "22  32.721623 -121.762561 2024-12-25 02:00:00-08:00   60.0  262.169900   \n",
       "23  32.758544 -121.889225 2024-12-25 03:00:00-08:00   41.9  289.147709   \n",
       "24  32.687203 -121.748709 2024-12-25 04:00:00-08:00  150.0  121.072426   \n",
       "25  32.594964 -121.638111 2024-12-25 05:00:00-08:00  165.0  134.694326   \n",
       "26  32.503695 -121.526497 2024-12-25 06:00:00-08:00  165.0  134.100425   \n",
       "27  32.408312 -121.419946 2024-12-25 07:00:00-08:00  165.0  136.663868   \n",
       "28  32.316570 -121.309109 2024-12-25 08:00:00-08:00  165.0  134.389143   \n",
       "29  32.229046 -121.193705 2024-12-25 09:00:00-08:00  165.0  131.860747   \n",
       "30  32.139109 -121.081035 2024-12-25 10:00:00-08:00  165.0  133.294512   \n",
       "31  32.044865 -120.973502 2024-12-25 11:00:00-08:00  165.0  135.942936   \n",
       "32  31.941824 -120.882488 2024-12-25 12:00:00-08:00  170.7  143.138329   \n",
       "33  31.837445 -120.793720 2024-12-25 13:00:00-08:00  170.7  144.144059   \n",
       "34  31.725662 -120.725538 2024-12-25 14:00:00-08:00  180.0  152.575408   \n",
       "35  31.616900 -120.650989 2024-12-25 15:00:00-08:00  180.0  149.723275   \n",
       "36  31.697970 -120.505429 2024-12-25 16:00:00-08:00   90.0   56.764519   \n",
       "37  31.775176 -120.356871 2024-12-25 17:00:00-08:00   90.0   58.533223   \n",
       "38  31.855672 -120.210622 2024-12-25 18:00:00-08:00   90.0   57.029400   \n",
       "39  31.941531 -120.068533 2024-12-25 19:00:00-08:00   90.0   54.521190   \n",
       "40  32.021646 -119.921731 2024-12-25 20:00:00-08:00   90.0   57.204356   \n",
       "41  32.102524 -119.775383 2024-12-25 21:00:00-08:00   90.0   56.852443   \n",
       "42  32.186781 -119.631583 2024-12-25 22:00:00-08:00   90.0   55.278036   \n",
       "43  32.270957 -119.487584 2024-12-25 23:00:00-08:00   90.0   55.316106   \n",
       "44  32.313799 -119.311701 2024-12-26 00:00:00-08:00  110.0   73.878840   \n",
       "45  32.389676 -119.161192 2024-12-26 01:00:00-08:00   90.0   59.132257   \n",
       "46  32.496623 -119.052180 2024-12-26 02:00:00-08:00   75.0   40.673389   \n",
       "47  32.610943 -118.976909 2024-12-26 03:00:00-08:00   60.0   29.009124   \n",
       "48  32.716514 -118.910605 2024-12-26 04:00:00-08:00   60.0   27.848646   \n",
       "49  32.816509 -118.832966 2024-12-26 05:00:00-08:00   60.0   33.119100   \n",
       "50  32.924781 -118.758793 2024-12-26 06:00:00-08:00   75.0   29.895258   \n",
       "51  33.005293 -118.695527 2024-12-26 07:00:00-08:00   60.0   33.378640   \n",
       "52  33.047029 -118.671347 2024-12-26 08:00:00-08:00   90.0   25.902409   \n",
       "53  33.108923 -118.678692 2024-12-26 09:00:00-08:00  110.0  354.323008   \n",
       "54  33.224603 -118.640190 2024-12-26 10:00:00-08:00   90.0   15.557811   \n",
       "55  33.314513 -118.615920 2024-12-26 11:00:00-08:00   75.0   12.711293   \n",
       "56  33.374645 -118.607928 2024-12-26 12:00:00-08:00   75.0    6.333110   \n",
       "57  33.427167 -118.594079 2024-12-26 13:00:00-08:00   75.0   12.410704   \n",
       "58  33.459528 -118.588075 2024-12-26 14:00:00-08:00   48.2    8.799783   \n",
       "\n",
       "           dtg       sog  \n",
       "0          NaN       NaN  \n",
       "1   154.537156  1.938662  \n",
       "2   152.945787  2.211422  \n",
       "3   148.642889  5.541729  \n",
       "4   145.247135  4.409794  \n",
       "5   140.176762  5.630000  \n",
       "6   136.610956  4.304772  \n",
       "7   130.903456  6.670000  \n",
       "8   122.185343  8.890000  \n",
       "9   113.735135  8.470000  \n",
       "10  105.589908  8.230000  \n",
       "11   97.417333  8.470000  \n",
       "12   88.992090  8.470000  \n",
       "13   80.616603  8.470000  \n",
       "14   72.262232  8.470000  \n",
       "15   63.660766  8.890000  \n",
       "16   55.213074  8.470000  \n",
       "17   46.752948  8.470000  \n",
       "18   38.203613  8.890000  \n",
       "19   29.599129  8.890000  \n",
       "20   21.155464  8.470000  \n",
       "21   12.901533  8.470000  \n",
       "22    5.088747  7.850000  \n",
       "23    2.501906  6.770000  \n",
       "24   82.417257  8.290000  \n",
       "25   74.567679  7.870000  \n",
       "26   66.731076  7.870000  \n",
       "27   58.873955  7.870000  \n",
       "28   51.050797  7.870000  \n",
       "29   43.303082  7.870000  \n",
       "30   35.568016  7.870000  \n",
       "31   27.826261  7.870000  \n",
       "32   20.130513  7.730000  \n",
       "33   12.455856  7.730000  \n",
       "34    4.896207  7.560000  \n",
       "35    2.693671  7.560000  \n",
       "36   82.902535  8.890000  \n",
       "37   74.013883  8.890000  \n",
       "38   65.124309  8.890000  \n",
       "39   56.250190  8.890000  \n",
       "40   47.362057  8.890000  \n",
       "41   38.476928  8.890000  \n",
       "42   29.611759  8.890000  \n",
       "43   20.768554  8.890000  \n",
       "44   11.808852  9.290000  \n",
       "45    3.086326  8.890000  \n",
       "46   64.247087  8.470000  \n",
       "47   56.526041  7.850000  \n",
       "48   49.478012  7.170000  \n",
       "49   42.654186  7.170000  \n",
       "50   35.506446  7.500000  \n",
       "51   30.253192  5.790000  \n",
       "52   27.644045  2.785800  \n",
       "53   23.976246  3.734485  \n",
       "54   16.909578  7.210000  \n",
       "55   11.520027  5.534048  \n",
       "56    7.960805  3.632513  \n",
       "57    5.048056  3.228976  \n",
       "58    3.461693  1.966129  "
      ]
     },
     "execution_count": 6,
     "metadata": {},
     "output_type": "execute_result"
    }
   ],
   "source": [
    "route"
   ]
  },
  {
   "cell_type": "code",
   "execution_count": 19,
   "id": "f05fa81d-8e56-48ae-babe-5da8f1ccca71",
   "metadata": {},
   "outputs": [
    {
     "data": {
      "application/vnd.plotly.v1+json": {
       "config": {
        "plotlyServerURL": "https://plot.ly"
       },
       "data": [
        {
         "hovertemplate": "<b>%{hovertext}</b><br><br>lat=%{lat}<br>lng=%{lon}<extra></extra>",
         "hovertext": [
          null,
          "2024-12-11T20:00:00-08:00",
          "2024-12-11T21:00:00-08:00",
          "2024-12-11T22:00:00-08:00",
          "2024-12-11T23:00:00-08:00",
          "2024-12-12T00:00:00-08:00",
          "2024-12-12T01:00:00-08:00",
          "2024-12-12T02:00:00-08:00",
          "2024-12-12T03:00:00-08:00",
          "2024-12-12T04:00:00-08:00",
          "2024-12-12T05:00:00-08:00",
          "2024-12-12T06:00:00-08:00",
          "2024-12-12T07:00:00-08:00",
          "2024-12-12T08:00:00-08:00",
          "2024-12-12T09:00:00-08:00",
          "2024-12-12T10:00:00-08:00",
          "2024-12-12T11:00:00-08:00",
          "2024-12-12T12:00:00-08:00",
          "2024-12-12T13:00:00-08:00",
          "2024-12-12T14:00:00-08:00",
          "2024-12-12T15:00:00-08:00",
          "2024-12-12T16:00:00-08:00",
          "2024-12-12T17:00:00-08:00",
          "2024-12-12T18:00:00-08:00",
          "2024-12-12T19:00:00-08:00",
          "2024-12-12T20:00:00-08:00",
          "2024-12-12T21:00:00-08:00",
          "2024-12-12T22:00:00-08:00",
          "2024-12-12T23:00:00-08:00",
          "2024-12-13T00:00:00-08:00",
          "2024-12-13T01:00:00-08:00",
          "2024-12-13T02:00:00-08:00",
          "2024-12-13T03:00:00-08:00",
          "2024-12-13T04:00:00-08:00",
          "2024-12-13T05:00:00-08:00",
          "2024-12-13T06:00:00-08:00",
          "2024-12-13T07:00:00-08:00",
          "2024-12-13T08:00:00-08:00",
          "2024-12-13T09:00:00-08:00",
          "2024-12-13T10:00:00-08:00",
          "2024-12-13T11:00:00-08:00",
          "2024-12-13T12:00:00-08:00",
          "2024-12-13T13:00:00-08:00",
          "2024-12-13T14:00:00-08:00",
          "2024-12-13T15:00:00-08:00",
          "2024-12-13T16:00:00-08:00",
          "2024-12-13T17:00:00-08:00",
          "2024-12-13T18:00:00-08:00",
          "2024-12-13T19:00:00-08:00",
          "2024-12-13T20:00:00-08:00",
          "2024-12-13T21:00:00-08:00",
          "2024-12-13T22:00:00-08:00",
          "2024-12-13T23:00:00-08:00",
          "2024-12-14T00:00:00-08:00",
          "2024-12-14T01:00:00-08:00",
          "2024-12-14T02:00:00-08:00",
          "2024-12-14T03:00:00-08:00",
          "2024-12-14T04:00:00-08:00",
          "2024-12-14T05:00:00-08:00",
          "2024-12-14T06:00:00-08:00",
          "2024-12-14T07:00:00-08:00",
          "2024-12-14T08:00:00-08:00",
          "2024-12-14T09:00:00-08:00",
          "2024-12-14T10:00:00-08:00",
          "2024-12-14T11:00:00-08:00",
          "2024-12-14T12:00:00-08:00",
          "2024-12-14T13:00:00-08:00",
          "2024-12-14T14:00:00-08:00",
          "2024-12-14T15:00:00-08:00",
          "2024-12-14T16:00:00-08:00",
          "2024-12-14T17:00:00-08:00",
          "2024-12-14T18:00:00-08:00",
          "2024-12-14T19:00:00-08:00",
          "2024-12-14T20:00:00-08:00",
          "2024-12-14T21:00:00-08:00",
          "2024-12-14T22:00:00-08:00",
          "2024-12-14T23:00:00-08:00",
          "2024-12-15T00:00:00-08:00",
          "2024-12-15T01:00:00-08:00",
          "2024-12-15T02:00:00-08:00",
          "2024-12-15T03:00:00-08:00",
          "2024-12-15T04:00:00-08:00",
          "2024-12-15T05:00:00-08:00",
          "2024-12-15T06:00:00-08:00",
          "2024-12-15T07:00:00-08:00",
          "2024-12-15T08:00:00-08:00",
          "2024-12-15T09:00:00-08:00",
          "2024-12-15T10:00:00-08:00",
          "2024-12-15T11:00:00-08:00",
          "2024-12-15T12:00:00-08:00",
          "2024-12-15T13:00:00-08:00",
          "2024-12-15T14:00:00-08:00",
          "2024-12-15T15:00:00-08:00"
         ],
         "lat": [
          34.14104,
          34.0733109339631,
          34.03281995869028,
          33.974928270677076,
          33.9498906920758,
          33.88290701856929,
          33.82021404305019,
          33.75970598286189,
          33.71955998515375,
          33.66842696627735,
          33.61073963517944,
          33.6221445216398,
          33.5559507452632,
          33.4991606461943,
          33.43930095948976,
          33.37280675275988,
          33.28997378179091,
          33.22882512005488,
          33.136063527858134,
          33.07523160421187,
          33.01325807201318,
          32.96128790381562,
          32.9034697922301,
          32.84675168917787,
          32.79150501589191,
          32.73775622051591,
          32.685268244738516,
          32.64821665806142,
          32.605212235713964,
          32.671230116306475,
          32.71360723081367,
          32.748297128575786,
          32.7624504587749,
          32.7294576258153,
          32.710732686507356,
          32.69518450060603,
          32.7259472391334,
          32.65658561623628,
          32.65674580212599,
          32.64169741263944,
          32.61568734454974,
          32.59631776030892,
          32.531503774632796,
          32.46995693292995,
          32.432394608026826,
          32.37329632896556,
          32.333614050150665,
          32.32099837608015,
          32.30284379446146,
          32.285311321526045,
          32.26939853575075,
          32.25944888266208,
          32.21106567393232,
          32.194302710296434,
          32.15021020835014,
          32.13106346261326,
          32.10801737095293,
          32.08379254158567,
          32.05190379013195,
          32.005437494989316,
          31.953215871681735,
          31.913193185975025,
          31.891488788356106,
          31.86143055537546,
          31.778250310108213,
          31.691885018035403,
          31.672551846302778,
          31.643003967198837,
          31.709325527240146,
          31.77394036213072,
          31.817911578676668,
          31.887277595885823,
          31.936692485430633,
          31.975208966138943,
          32.013971333208715,
          32.06290688264432,
          32.10347829780412,
          32.16987798826755,
          32.26470824836383,
          32.35834891179334,
          32.448775161758036,
          32.54704529930889,
          32.63514751971553,
          32.726021604996305,
          32.81515073296514,
          32.90716816160198,
          33.001272681734015,
          33.10172914141619,
          33.19840713780865,
          33.29510275860667,
          33.33402530151908,
          33.42866061449764,
          33.46779906962876
         ],
         "legendgroup": "",
         "line": {
          "color": "#636efa"
         },
         "lon": [
          -119.25085,
          -119.32817410855763,
          -119.3789624657853,
          -119.4352734075631,
          -119.44551477347369,
          -119.48021725434437,
          -119.53989478795505,
          -119.57154191375426,
          -119.5910508657409,
          -119.617444720629,
          -119.65538701303184,
          -119.71580211383778,
          -119.74104354762888,
          -119.85974420140683,
          -119.95108756087501,
          -120.01452570983339,
          -120.06712756698293,
          -120.12493559336686,
          -120.2042981313008,
          -120.2936270301243,
          -120.38176896323112,
          -120.45102804813389,
          -120.51331335507574,
          -120.63844290405154,
          -120.76442280295213,
          -120.89123912814944,
          -121.01872410591965,
          -121.13088789544338,
          -121.21208008122538,
          -121.28166805648593,
          -121.34705270838724,
          -121.40983094589902,
          -121.48079184973261,
          -121.5849395058714,
          -121.70060843206493,
          -121.8333267393653,
          -121.86982979355462,
          -121.8740654932941,
          -121.79157184471475,
          -121.70073809650336,
          -121.61348884549183,
          -121.50457597412678,
          -121.42417157497667,
          -121.36620331423467,
          -121.33471676333491,
          -121.31984521985495,
          -121.31828943810251,
          -121.27124169330519,
          -121.21808756076572,
          -121.15991452054908,
          -121.11113491296034,
          -121.07250584893751,
          -121.0869453676762,
          -121.01373184089299,
          -120.96685690387804,
          -120.95111988592015,
          -120.94682005766474,
          -120.93895438024344,
          -120.92759745503965,
          -120.9123721710456,
          -120.89179642482591,
          -120.87960970644701,
          -120.8599516738057,
          -120.83447844934871,
          -120.7951582040106,
          -120.77094158833071,
          -120.69847948281586,
          -120.66102106703636,
          -120.52953129903584,
          -120.39632860325558,
          -120.2448165392328,
          -120.11480374842309,
          -119.97262793754203,
          -119.82577929893405,
          -119.67895876427706,
          -119.5613062950543,
          -119.43545357120708,
          -119.31050212317429,
          -119.22471035705328,
          -119.13702105461297,
          -119.08087578212776,
          -118.99733705831937,
          -118.90165397942063,
          -118.82402765072989,
          -118.74351503596922,
          -118.66766001576701,
          -118.59544929323879,
          -118.53656962334992,
          -118.49736621904162,
          -118.45818162919927,
          -118.57113023190063,
          -118.52524418802918,
          -118.63825949232518
         ],
         "mode": "lines",
         "name": "",
         "showlegend": false,
         "subplot": "map",
         "type": "scattermap"
        },
        {
         "hovertemplate": "<b>%{hovertext}</b><br><br>lat=%{lat}<br>lng=%{lon}<extra></extra>",
         "hovertext": [
          "Channel Islands Start",
          "Meridian 400 Waypoint # 1 ",
          "Meridian 400 Waypoint # 2 ",
          "Cortez Bank Buoy",
          "Catalina West End Gate"
         ],
         "lat": [
          34.14104,
          32.72304,
          31.65268,
          32.43059,
          33.50608
         ],
         "legendgroup": "",
         "lon": [
          -119.25085,
          -121.86329,
          -120.68278,
          -119.12433,
          -118.62886
         ],
         "marker": {
          "color": "#636efa"
         },
         "mode": "markers",
         "name": "",
         "showlegend": false,
         "subplot": "map",
         "type": "scattermap"
        }
       ],
       "layout": {
        "autosize": true,
        "height": 360,
        "legend": {
         "tracegroupgap": 0
        },
        "map": {
         "bearing": 0,
         "center": {
          "lat": 32.88028872990276,
          "lon": -118.4678416094489
         },
         "domain": {
          "x": [
           0,
           1
          ],
          "y": [
           0,
           1
          ]
         },
         "pitch": 0,
         "style": "open-street-map",
         "zoom": 5.945597764929545
        },
        "mapbox": {
         "center": {
          "lat": 32.697518286715336,
          "lon": -120.31679520035583
         },
         "zoom": 3
        },
        "margin": {
         "b": 0,
         "l": 0,
         "r": 0,
         "t": 0
        },
        "template": {
         "data": {
          "bar": [
           {
            "error_x": {
             "color": "#2a3f5f"
            },
            "error_y": {
             "color": "#2a3f5f"
            },
            "marker": {
             "line": {
              "color": "#E5ECF6",
              "width": 0.5
             },
             "pattern": {
              "fillmode": "overlay",
              "size": 10,
              "solidity": 0.2
             }
            },
            "type": "bar"
           }
          ],
          "barpolar": [
           {
            "marker": {
             "line": {
              "color": "#E5ECF6",
              "width": 0.5
             },
             "pattern": {
              "fillmode": "overlay",
              "size": 10,
              "solidity": 0.2
             }
            },
            "type": "barpolar"
           }
          ],
          "carpet": [
           {
            "aaxis": {
             "endlinecolor": "#2a3f5f",
             "gridcolor": "white",
             "linecolor": "white",
             "minorgridcolor": "white",
             "startlinecolor": "#2a3f5f"
            },
            "baxis": {
             "endlinecolor": "#2a3f5f",
             "gridcolor": "white",
             "linecolor": "white",
             "minorgridcolor": "white",
             "startlinecolor": "#2a3f5f"
            },
            "type": "carpet"
           }
          ],
          "choropleth": [
           {
            "colorbar": {
             "outlinewidth": 0,
             "ticks": ""
            },
            "type": "choropleth"
           }
          ],
          "contour": [
           {
            "colorbar": {
             "outlinewidth": 0,
             "ticks": ""
            },
            "colorscale": [
             [
              0,
              "#0d0887"
             ],
             [
              0.1111111111111111,
              "#46039f"
             ],
             [
              0.2222222222222222,
              "#7201a8"
             ],
             [
              0.3333333333333333,
              "#9c179e"
             ],
             [
              0.4444444444444444,
              "#bd3786"
             ],
             [
              0.5555555555555556,
              "#d8576b"
             ],
             [
              0.6666666666666666,
              "#ed7953"
             ],
             [
              0.7777777777777778,
              "#fb9f3a"
             ],
             [
              0.8888888888888888,
              "#fdca26"
             ],
             [
              1,
              "#f0f921"
             ]
            ],
            "type": "contour"
           }
          ],
          "contourcarpet": [
           {
            "colorbar": {
             "outlinewidth": 0,
             "ticks": ""
            },
            "type": "contourcarpet"
           }
          ],
          "heatmap": [
           {
            "colorbar": {
             "outlinewidth": 0,
             "ticks": ""
            },
            "colorscale": [
             [
              0,
              "#0d0887"
             ],
             [
              0.1111111111111111,
              "#46039f"
             ],
             [
              0.2222222222222222,
              "#7201a8"
             ],
             [
              0.3333333333333333,
              "#9c179e"
             ],
             [
              0.4444444444444444,
              "#bd3786"
             ],
             [
              0.5555555555555556,
              "#d8576b"
             ],
             [
              0.6666666666666666,
              "#ed7953"
             ],
             [
              0.7777777777777778,
              "#fb9f3a"
             ],
             [
              0.8888888888888888,
              "#fdca26"
             ],
             [
              1,
              "#f0f921"
             ]
            ],
            "type": "heatmap"
           }
          ],
          "heatmapgl": [
           {
            "colorbar": {
             "outlinewidth": 0,
             "ticks": ""
            },
            "colorscale": [
             [
              0,
              "#0d0887"
             ],
             [
              0.1111111111111111,
              "#46039f"
             ],
             [
              0.2222222222222222,
              "#7201a8"
             ],
             [
              0.3333333333333333,
              "#9c179e"
             ],
             [
              0.4444444444444444,
              "#bd3786"
             ],
             [
              0.5555555555555556,
              "#d8576b"
             ],
             [
              0.6666666666666666,
              "#ed7953"
             ],
             [
              0.7777777777777778,
              "#fb9f3a"
             ],
             [
              0.8888888888888888,
              "#fdca26"
             ],
             [
              1,
              "#f0f921"
             ]
            ],
            "type": "heatmapgl"
           }
          ],
          "histogram": [
           {
            "marker": {
             "pattern": {
              "fillmode": "overlay",
              "size": 10,
              "solidity": 0.2
             }
            },
            "type": "histogram"
           }
          ],
          "histogram2d": [
           {
            "colorbar": {
             "outlinewidth": 0,
             "ticks": ""
            },
            "colorscale": [
             [
              0,
              "#0d0887"
             ],
             [
              0.1111111111111111,
              "#46039f"
             ],
             [
              0.2222222222222222,
              "#7201a8"
             ],
             [
              0.3333333333333333,
              "#9c179e"
             ],
             [
              0.4444444444444444,
              "#bd3786"
             ],
             [
              0.5555555555555556,
              "#d8576b"
             ],
             [
              0.6666666666666666,
              "#ed7953"
             ],
             [
              0.7777777777777778,
              "#fb9f3a"
             ],
             [
              0.8888888888888888,
              "#fdca26"
             ],
             [
              1,
              "#f0f921"
             ]
            ],
            "type": "histogram2d"
           }
          ],
          "histogram2dcontour": [
           {
            "colorbar": {
             "outlinewidth": 0,
             "ticks": ""
            },
            "colorscale": [
             [
              0,
              "#0d0887"
             ],
             [
              0.1111111111111111,
              "#46039f"
             ],
             [
              0.2222222222222222,
              "#7201a8"
             ],
             [
              0.3333333333333333,
              "#9c179e"
             ],
             [
              0.4444444444444444,
              "#bd3786"
             ],
             [
              0.5555555555555556,
              "#d8576b"
             ],
             [
              0.6666666666666666,
              "#ed7953"
             ],
             [
              0.7777777777777778,
              "#fb9f3a"
             ],
             [
              0.8888888888888888,
              "#fdca26"
             ],
             [
              1,
              "#f0f921"
             ]
            ],
            "type": "histogram2dcontour"
           }
          ],
          "mesh3d": [
           {
            "colorbar": {
             "outlinewidth": 0,
             "ticks": ""
            },
            "type": "mesh3d"
           }
          ],
          "parcoords": [
           {
            "line": {
             "colorbar": {
              "outlinewidth": 0,
              "ticks": ""
             }
            },
            "type": "parcoords"
           }
          ],
          "pie": [
           {
            "automargin": true,
            "type": "pie"
           }
          ],
          "scatter": [
           {
            "fillpattern": {
             "fillmode": "overlay",
             "size": 10,
             "solidity": 0.2
            },
            "type": "scatter"
           }
          ],
          "scatter3d": [
           {
            "line": {
             "colorbar": {
              "outlinewidth": 0,
              "ticks": ""
             }
            },
            "marker": {
             "colorbar": {
              "outlinewidth": 0,
              "ticks": ""
             }
            },
            "type": "scatter3d"
           }
          ],
          "scattercarpet": [
           {
            "marker": {
             "colorbar": {
              "outlinewidth": 0,
              "ticks": ""
             }
            },
            "type": "scattercarpet"
           }
          ],
          "scattergeo": [
           {
            "marker": {
             "colorbar": {
              "outlinewidth": 0,
              "ticks": ""
             }
            },
            "type": "scattergeo"
           }
          ],
          "scattergl": [
           {
            "marker": {
             "colorbar": {
              "outlinewidth": 0,
              "ticks": ""
             }
            },
            "type": "scattergl"
           }
          ],
          "scattermapbox": [
           {
            "marker": {
             "colorbar": {
              "outlinewidth": 0,
              "ticks": ""
             }
            },
            "type": "scattermapbox"
           }
          ],
          "scatterpolar": [
           {
            "marker": {
             "colorbar": {
              "outlinewidth": 0,
              "ticks": ""
             }
            },
            "type": "scatterpolar"
           }
          ],
          "scatterpolargl": [
           {
            "marker": {
             "colorbar": {
              "outlinewidth": 0,
              "ticks": ""
             }
            },
            "type": "scatterpolargl"
           }
          ],
          "scatterternary": [
           {
            "marker": {
             "colorbar": {
              "outlinewidth": 0,
              "ticks": ""
             }
            },
            "type": "scatterternary"
           }
          ],
          "surface": [
           {
            "colorbar": {
             "outlinewidth": 0,
             "ticks": ""
            },
            "colorscale": [
             [
              0,
              "#0d0887"
             ],
             [
              0.1111111111111111,
              "#46039f"
             ],
             [
              0.2222222222222222,
              "#7201a8"
             ],
             [
              0.3333333333333333,
              "#9c179e"
             ],
             [
              0.4444444444444444,
              "#bd3786"
             ],
             [
              0.5555555555555556,
              "#d8576b"
             ],
             [
              0.6666666666666666,
              "#ed7953"
             ],
             [
              0.7777777777777778,
              "#fb9f3a"
             ],
             [
              0.8888888888888888,
              "#fdca26"
             ],
             [
              1,
              "#f0f921"
             ]
            ],
            "type": "surface"
           }
          ],
          "table": [
           {
            "cells": {
             "fill": {
              "color": "#EBF0F8"
             },
             "line": {
              "color": "white"
             }
            },
            "header": {
             "fill": {
              "color": "#C8D4E3"
             },
             "line": {
              "color": "white"
             }
            },
            "type": "table"
           }
          ]
         },
         "layout": {
          "annotationdefaults": {
           "arrowcolor": "#2a3f5f",
           "arrowhead": 0,
           "arrowwidth": 1
          },
          "autotypenumbers": "strict",
          "coloraxis": {
           "colorbar": {
            "outlinewidth": 0,
            "ticks": ""
           }
          },
          "colorscale": {
           "diverging": [
            [
             0,
             "#8e0152"
            ],
            [
             0.1,
             "#c51b7d"
            ],
            [
             0.2,
             "#de77ae"
            ],
            [
             0.3,
             "#f1b6da"
            ],
            [
             0.4,
             "#fde0ef"
            ],
            [
             0.5,
             "#f7f7f7"
            ],
            [
             0.6,
             "#e6f5d0"
            ],
            [
             0.7,
             "#b8e186"
            ],
            [
             0.8,
             "#7fbc41"
            ],
            [
             0.9,
             "#4d9221"
            ],
            [
             1,
             "#276419"
            ]
           ],
           "sequential": [
            [
             0,
             "#0d0887"
            ],
            [
             0.1111111111111111,
             "#46039f"
            ],
            [
             0.2222222222222222,
             "#7201a8"
            ],
            [
             0.3333333333333333,
             "#9c179e"
            ],
            [
             0.4444444444444444,
             "#bd3786"
            ],
            [
             0.5555555555555556,
             "#d8576b"
            ],
            [
             0.6666666666666666,
             "#ed7953"
            ],
            [
             0.7777777777777778,
             "#fb9f3a"
            ],
            [
             0.8888888888888888,
             "#fdca26"
            ],
            [
             1,
             "#f0f921"
            ]
           ],
           "sequentialminus": [
            [
             0,
             "#0d0887"
            ],
            [
             0.1111111111111111,
             "#46039f"
            ],
            [
             0.2222222222222222,
             "#7201a8"
            ],
            [
             0.3333333333333333,
             "#9c179e"
            ],
            [
             0.4444444444444444,
             "#bd3786"
            ],
            [
             0.5555555555555556,
             "#d8576b"
            ],
            [
             0.6666666666666666,
             "#ed7953"
            ],
            [
             0.7777777777777778,
             "#fb9f3a"
            ],
            [
             0.8888888888888888,
             "#fdca26"
            ],
            [
             1,
             "#f0f921"
            ]
           ]
          },
          "colorway": [
           "#636efa",
           "#EF553B",
           "#00cc96",
           "#ab63fa",
           "#FFA15A",
           "#19d3f3",
           "#FF6692",
           "#B6E880",
           "#FF97FF",
           "#FECB52"
          ],
          "font": {
           "color": "#2a3f5f"
          },
          "geo": {
           "bgcolor": "white",
           "lakecolor": "white",
           "landcolor": "#E5ECF6",
           "showlakes": true,
           "showland": true,
           "subunitcolor": "white"
          },
          "hoverlabel": {
           "align": "left"
          },
          "hovermode": "closest",
          "mapbox": {
           "style": "light"
          },
          "paper_bgcolor": "white",
          "plot_bgcolor": "#E5ECF6",
          "polar": {
           "angularaxis": {
            "gridcolor": "white",
            "linecolor": "white",
            "ticks": ""
           },
           "bgcolor": "#E5ECF6",
           "radialaxis": {
            "gridcolor": "white",
            "linecolor": "white",
            "ticks": ""
           }
          },
          "scene": {
           "xaxis": {
            "backgroundcolor": "#E5ECF6",
            "gridcolor": "white",
            "gridwidth": 2,
            "linecolor": "white",
            "showbackground": true,
            "ticks": "",
            "zerolinecolor": "white"
           },
           "yaxis": {
            "backgroundcolor": "#E5ECF6",
            "gridcolor": "white",
            "gridwidth": 2,
            "linecolor": "white",
            "showbackground": true,
            "ticks": "",
            "zerolinecolor": "white"
           },
           "zaxis": {
            "backgroundcolor": "#E5ECF6",
            "gridcolor": "white",
            "gridwidth": 2,
            "linecolor": "white",
            "showbackground": true,
            "ticks": "",
            "zerolinecolor": "white"
           }
          },
          "shapedefaults": {
           "line": {
            "color": "#2a3f5f"
           }
          },
          "ternary": {
           "aaxis": {
            "gridcolor": "white",
            "linecolor": "white",
            "ticks": ""
           },
           "baxis": {
            "gridcolor": "white",
            "linecolor": "white",
            "ticks": ""
           },
           "bgcolor": "#E5ECF6",
           "caxis": {
            "gridcolor": "white",
            "linecolor": "white",
            "ticks": ""
           }
          },
          "title": {
           "x": 0.05
          },
          "xaxis": {
           "automargin": true,
           "gridcolor": "white",
           "linecolor": "white",
           "ticks": "",
           "title": {
            "standoff": 15
           },
           "zerolinecolor": "white",
           "zerolinewidth": 2
          },
          "yaxis": {
           "automargin": true,
           "gridcolor": "white",
           "linecolor": "white",
           "ticks": "",
           "title": {
            "standoff": 15
           },
           "zerolinecolor": "white",
           "zerolinewidth": 2
          }
         }
        }
       }
      },
      "image/png": "[encoded data removed]",
      "text/html": [
       "<div>                            <div id=\"7dbb4394-04b4-4d7e-b0e8-dfa06be62789\" class=\"plotly-graph-div\" style=\"height:500px; width:100%;\"></div>            <script type=\"text/javascript\">                require([\"plotly\"], function(Plotly) {                    window.PLOTLYENV=window.PLOTLYENV || {};                                    if (document.getElementById(\"7dbb4394-04b4-4d7e-b0e8-dfa06be62789\")) {                    Plotly.newPlot(                        \"7dbb4394-04b4-4d7e-b0e8-dfa06be62789\",                        [{\"hovertemplate\":\"\\u003cb\\u003e%{hovertext}\\u003c\\u002fb\\u003e\\u003cbr\\u003e\\u003cbr\\u003elat=%{lat}\\u003cbr\\u003elng=%{lon}\\u003cextra\\u003e\\u003c\\u002fextra\\u003e\",\"hovertext\":[null,\"2024-12-11T20:00:00-08:00\",\"2024-12-11T21:00:00-08:00\",\"2024-12-11T22:00:00-08:00\",\"2024-12-11T23:00:00-08:00\",\"2024-12-12T00:00:00-08:00\",\"2024-12-12T01:00:00-08:00\",\"2024-12-12T02:00:00-08:00\",\"2024-12-12T03:00:00-08:00\",\"2024-12-12T04:00:00-08:00\",\"2024-12-12T05:00:00-08:00\",\"2024-12-12T06:00:00-08:00\",\"2024-12-12T07:00:00-08:00\",\"2024-12-12T08:00:00-08:00\",\"2024-12-12T09:00:00-08:00\",\"2024-12-12T10:00:00-08:00\",\"2024-12-12T11:00:00-08:00\",\"2024-12-12T12:00:00-08:00\",\"2024-12-12T13:00:00-08:00\",\"2024-12-12T14:00:00-08:00\",\"2024-12-12T15:00:00-08:00\",\"2024-12-12T16:00:00-08:00\",\"2024-12-12T17:00:00-08:00\",\"2024-12-12T18:00:00-08:00\",\"2024-12-12T19:00:00-08:00\",\"2024-12-12T20:00:00-08:00\",\"2024-12-12T21:00:00-08:00\",\"2024-12-12T22:00:00-08:00\",\"2024-12-12T23:00:00-08:00\",\"2024-12-13T00:00:00-08:00\",\"2024-12-13T01:00:00-08:00\",\"2024-12-13T02:00:00-08:00\",\"2024-12-13T03:00:00-08:00\",\"2024-12-13T04:00:00-08:00\",\"2024-12-13T05:00:00-08:00\",\"2024-12-13T06:00:00-08:00\",\"2024-12-13T07:00:00-08:00\",\"2024-12-13T08:00:00-08:00\",\"2024-12-13T09:00:00-08:00\",\"2024-12-13T10:00:00-08:00\",\"2024-12-13T11:00:00-08:00\",\"2024-12-13T12:00:00-08:00\",\"2024-12-13T13:00:00-08:00\",\"2024-12-13T14:00:00-08:00\",\"2024-12-13T15:00:00-08:00\",\"2024-12-13T16:00:00-08:00\",\"2024-12-13T17:00:00-08:00\",\"2024-12-13T18:00:00-08:00\",\"2024-12-13T19:00:00-08:00\",\"2024-12-13T20:00:00-08:00\",\"2024-12-13T21:00:00-08:00\",\"2024-12-13T22:00:00-08:00\",\"2024-12-13T23:00:00-08:00\",\"2024-12-14T00:00:00-08:00\",\"2024-12-14T01:00:00-08:00\",\"2024-12-14T02:00:00-08:00\",\"2024-12-14T03:00:00-08:00\",\"2024-12-14T04:00:00-08:00\",\"2024-12-14T05:00:00-08:00\",\"2024-12-14T06:00:00-08:00\",\"2024-12-14T07:00:00-08:00\",\"2024-12-14T08:00:00-08:00\",\"2024-12-14T09:00:00-08:00\",\"2024-12-14T10:00:00-08:00\",\"2024-12-14T11:00:00-08:00\",\"2024-12-14T12:00:00-08:00\",\"2024-12-14T13:00:00-08:00\",\"2024-12-14T14:00:00-08:00\",\"2024-12-14T15:00:00-08:00\",\"2024-12-14T16:00:00-08:00\",\"2024-12-14T17:00:00-08:00\",\"2024-12-14T18:00:00-08:00\",\"2024-12-14T19:00:00-08:00\",\"2024-12-14T20:00:00-08:00\",\"2024-12-14T21:00:00-08:00\",\"2024-12-14T22:00:00-08:00\",\"2024-12-14T23:00:00-08:00\",\"2024-12-15T00:00:00-08:00\",\"2024-12-15T01:00:00-08:00\",\"2024-12-15T02:00:00-08:00\",\"2024-12-15T03:00:00-08:00\",\"2024-12-15T04:00:00-08:00\",\"2024-12-15T05:00:00-08:00\",\"2024-12-15T06:00:00-08:00\",\"2024-12-15T07:00:00-08:00\",\"2024-12-15T08:00:00-08:00\",\"2024-12-15T09:00:00-08:00\",\"2024-12-15T10:00:00-08:00\",\"2024-12-15T11:00:00-08:00\",\"2024-12-15T12:00:00-08:00\",\"2024-12-15T13:00:00-08:00\",\"2024-12-15T14:00:00-08:00\",\"2024-12-15T15:00:00-08:00\"],\"lat\":[34.14104,34.0733109339631,34.03281995869028,33.974928270677076,33.9498906920758,33.88290701856929,33.82021404305019,33.75970598286189,33.71955998515375,33.66842696627735,33.61073963517944,33.6221445216398,33.5559507452632,33.4991606461943,33.43930095948976,33.37280675275988,33.28997378179091,33.22882512005488,33.136063527858134,33.07523160421187,33.01325807201318,32.96128790381562,32.9034697922301,32.84675168917787,32.79150501589191,32.73775622051591,32.685268244738516,32.64821665806142,32.605212235713964,32.671230116306475,32.71360723081367,32.748297128575786,32.7624504587749,32.7294576258153,32.710732686507356,32.69518450060603,32.7259472391334,32.65658561623628,32.65674580212599,32.64169741263944,32.61568734454974,32.59631776030892,32.531503774632796,32.46995693292995,32.432394608026826,32.37329632896556,32.333614050150665,32.32099837608015,32.30284379446146,32.285311321526045,32.26939853575075,32.25944888266208,32.21106567393232,32.194302710296434,32.15021020835014,32.13106346261326,32.10801737095293,32.08379254158567,32.05190379013195,32.005437494989316,31.953215871681735,31.913193185975025,31.891488788356106,31.86143055537546,31.778250310108213,31.691885018035403,31.672551846302778,31.643003967198837,31.709325527240146,31.77394036213072,31.817911578676668,31.887277595885823,31.936692485430633,31.975208966138943,32.013971333208715,32.06290688264432,32.10347829780412,32.16987798826755,32.26470824836383,32.35834891179334,32.448775161758036,32.54704529930889,32.63514751971553,32.726021604996305,32.81515073296514,32.90716816160198,33.001272681734015,33.10172914141619,33.19840713780865,33.29510275860667,33.33402530151908,33.42866061449764,33.46779906962876],\"legendgroup\":\"\",\"line\":{\"color\":\"#636efa\"},\"lon\":[-119.25085,-119.32817410855763,-119.3789624657853,-119.4352734075631,-119.44551477347369,-119.48021725434437,-119.53989478795505,-119.57154191375426,-119.5910508657409,-119.617444720629,-119.65538701303184,-119.71580211383778,-119.74104354762888,-119.85974420140683,-119.95108756087501,-120.01452570983339,-120.06712756698293,-120.12493559336686,-120.2042981313008,-120.2936270301243,-120.38176896323112,-120.45102804813389,-120.51331335507574,-120.63844290405154,-120.76442280295213,-120.89123912814944,-121.01872410591965,-121.13088789544338,-121.21208008122538,-121.28166805648593,-121.34705270838724,-121.40983094589902,-121.48079184973261,-121.5849395058714,-121.70060843206493,-121.8333267393653,-121.86982979355462,-121.8740654932941,-121.79157184471475,-121.70073809650336,-121.61348884549183,-121.50457597412678,-121.42417157497667,-121.36620331423467,-121.33471676333491,-121.31984521985495,-121.31828943810251,-121.27124169330519,-121.21808756076572,-121.15991452054908,-121.11113491296034,-121.07250584893751,-121.0869453676762,-121.01373184089299,-120.96685690387804,-120.95111988592015,-120.94682005766474,-120.93895438024344,-120.92759745503965,-120.9123721710456,-120.89179642482591,-120.87960970644701,-120.8599516738057,-120.83447844934871,-120.7951582040106,-120.77094158833071,-120.69847948281586,-120.66102106703636,-120.52953129903584,-120.39632860325558,-120.2448165392328,-120.11480374842309,-119.97262793754203,-119.82577929893405,-119.67895876427706,-119.5613062950543,-119.43545357120708,-119.31050212317429,-119.22471035705328,-119.13702105461297,-119.08087578212776,-118.99733705831937,-118.90165397942063,-118.82402765072989,-118.74351503596922,-118.66766001576701,-118.59544929323879,-118.53656962334992,-118.49736621904162,-118.45818162919927,-118.57113023190063,-118.52524418802918,-118.63825949232518],\"mode\":\"lines\",\"name\":\"\",\"showlegend\":false,\"subplot\":\"map\",\"type\":\"scattermap\"},{\"hovertemplate\":\"\\u003cb\\u003e%{hovertext}\\u003c\\u002fb\\u003e\\u003cbr\\u003e\\u003cbr\\u003elat=%{lat}\\u003cbr\\u003elng=%{lon}\\u003cextra\\u003e\\u003c\\u002fextra\\u003e\",\"hovertext\":[\"Channel Islands Start\",\"Meridian 400 Waypoint # 1 \",\"Meridian 400 Waypoint # 2 \",\"Cortez Bank Buoy\",\"Catalina West End Gate\"],\"lat\":[34.14104,32.72304,31.65268,32.43059,33.50608],\"legendgroup\":\"\",\"lon\":[-119.25085,-121.86329,-120.68278,-119.12433,-118.62886],\"marker\":{\"color\":\"#636efa\"},\"mode\":\"markers\",\"name\":\"\",\"showlegend\":false,\"subplot\":\"map\",\"type\":\"scattermap\"}],                        {\"template\":{\"data\":{\"histogram2dcontour\":[{\"type\":\"histogram2dcontour\",\"colorbar\":{\"outlinewidth\":0,\"ticks\":\"\"},\"colorscale\":[[0.0,\"#0d0887\"],[0.1111111111111111,\"#46039f\"],[0.2222222222222222,\"#7201a8\"],[0.3333333333333333,\"#9c179e\"],[0.4444444444444444,\"#bd3786\"],[0.5555555555555556,\"#d8576b\"],[0.6666666666666666,\"#ed7953\"],[0.7777777777777778,\"#fb9f3a\"],[0.8888888888888888,\"#fdca26\"],[1.0,\"#f0f921\"]]}],\"choropleth\":[{\"type\":\"choropleth\",\"colorbar\":{\"outlinewidth\":0,\"ticks\":\"\"}}],\"histogram2d\":[{\"type\":\"histogram2d\",\"colorbar\":{\"outlinewidth\":0,\"ticks\":\"\"},\"colorscale\":[[0.0,\"#0d0887\"],[0.1111111111111111,\"#46039f\"],[0.2222222222222222,\"#7201a8\"],[0.3333333333333333,\"#9c179e\"],[0.4444444444444444,\"#bd3786\"],[0.5555555555555556,\"#d8576b\"],[0.6666666666666666,\"#ed7953\"],[0.7777777777777778,\"#fb9f3a\"],[0.8888888888888888,\"#fdca26\"],[1.0,\"#f0f921\"]]}],\"heatmap\":[{\"type\":\"heatmap\",\"colorbar\":{\"outlinewidth\":0,\"ticks\":\"\"},\"colorscale\":[[0.0,\"#0d0887\"],[0.1111111111111111,\"#46039f\"],[0.2222222222222222,\"#7201a8\"],[0.3333333333333333,\"#9c179e\"],[0.4444444444444444,\"#bd3786\"],[0.5555555555555556,\"#d8576b\"],[0.6666666666666666,\"#ed7953\"],[0.7777777777777778,\"#fb9f3a\"],[0.8888888888888888,\"#fdca26\"],[1.0,\"#f0f921\"]]}],\"heatmapgl\":[{\"type\":\"heatmapgl\",\"colorbar\":{\"outlinewidth\":0,\"ticks\":\"\"},\"colorscale\":[[0.0,\"#0d0887\"],[0.1111111111111111,\"#46039f\"],[0.2222222222222222,\"#7201a8\"],[0.3333333333333333,\"#9c179e\"],[0.4444444444444444,\"#bd3786\"],[0.5555555555555556,\"#d8576b\"],[0.6666666666666666,\"#ed7953\"],[0.7777777777777778,\"#fb9f3a\"],[0.8888888888888888,\"#fdca26\"],[1.0,\"#f0f921\"]]}],\"contourcarpet\":[{\"type\":\"contourcarpet\",\"colorbar\":{\"outlinewidth\":0,\"ticks\":\"\"}}],\"contour\":[{\"type\":\"contour\",\"colorbar\":{\"outlinewidth\":0,\"ticks\":\"\"},\"colorscale\":[[0.0,\"#0d0887\"],[0.1111111111111111,\"#46039f\"],[0.2222222222222222,\"#7201a8\"],[0.3333333333333333,\"#9c179e\"],[0.4444444444444444,\"#bd3786\"],[0.5555555555555556,\"#d8576b\"],[0.6666666666666666,\"#ed7953\"],[0.7777777777777778,\"#fb9f3a\"],[0.8888888888888888,\"#fdca26\"],[1.0,\"#f0f921\"]]}],\"surface\":[{\"type\":\"surface\",\"colorbar\":{\"outlinewidth\":0,\"ticks\":\"\"},\"colorscale\":[[0.0,\"#0d0887\"],[0.1111111111111111,\"#46039f\"],[0.2222222222222222,\"#7201a8\"],[0.3333333333333333,\"#9c179e\"],[0.4444444444444444,\"#bd3786\"],[0.5555555555555556,\"#d8576b\"],[0.6666666666666666,\"#ed7953\"],[0.7777777777777778,\"#fb9f3a\"],[0.8888888888888888,\"#fdca26\"],[1.0,\"#f0f921\"]]}],\"mesh3d\":[{\"type\":\"mesh3d\",\"colorbar\":{\"outlinewidth\":0,\"ticks\":\"\"}}],\"scatter\":[{\"fillpattern\":{\"fillmode\":\"overlay\",\"size\":10,\"solidity\":0.2},\"type\":\"scatter\"}],\"parcoords\":[{\"type\":\"parcoords\",\"line\":{\"colorbar\":{\"outlinewidth\":0,\"ticks\":\"\"}}}],\"scatterpolargl\":[{\"type\":\"scatterpolargl\",\"marker\":{\"colorbar\":{\"outlinewidth\":0,\"ticks\":\"\"}}}],\"bar\":[{\"error_x\":{\"color\":\"#2a3f5f\"},\"error_y\":{\"color\":\"#2a3f5f\"},\"marker\":{\"line\":{\"color\":\"#E5ECF6\",\"width\":0.5},\"pattern\":{\"fillmode\":\"overlay\",\"size\":10,\"solidity\":0.2}},\"type\":\"bar\"}],\"scattergeo\":[{\"type\":\"scattergeo\",\"marker\":{\"colorbar\":{\"outlinewidth\":0,\"ticks\":\"\"}}}],\"scatterpolar\":[{\"type\":\"scatterpolar\",\"marker\":{\"colorbar\":{\"outlinewidth\":0,\"ticks\":\"\"}}}],\"histogram\":[{\"marker\":{\"pattern\":{\"fillmode\":\"overlay\",\"size\":10,\"solidity\":0.2}},\"type\":\"histogram\"}],\"scattergl\":[{\"type\":\"scattergl\",\"marker\":{\"colorbar\":{\"outlinewidth\":0,\"ticks\":\"\"}}}],\"scatter3d\":[{\"type\":\"scatter3d\",\"line\":{\"colorbar\":{\"outlinewidth\":0,\"ticks\":\"\"}},\"marker\":{\"colorbar\":{\"outlinewidth\":0,\"ticks\":\"\"}}}],\"scattermapbox\":[{\"type\":\"scattermapbox\",\"marker\":{\"colorbar\":{\"outlinewidth\":0,\"ticks\":\"\"}}}],\"scatterternary\":[{\"type\":\"scatterternary\",\"marker\":{\"colorbar\":{\"outlinewidth\":0,\"ticks\":\"\"}}}],\"scattercarpet\":[{\"type\":\"scattercarpet\",\"marker\":{\"colorbar\":{\"outlinewidth\":0,\"ticks\":\"\"}}}],\"carpet\":[{\"aaxis\":{\"endlinecolor\":\"#2a3f5f\",\"gridcolor\":\"white\",\"linecolor\":\"white\",\"minorgridcolor\":\"white\",\"startlinecolor\":\"#2a3f5f\"},\"baxis\":{\"endlinecolor\":\"#2a3f5f\",\"gridcolor\":\"white\",\"linecolor\":\"white\",\"minorgridcolor\":\"white\",\"startlinecolor\":\"#2a3f5f\"},\"type\":\"carpet\"}],\"table\":[{\"cells\":{\"fill\":{\"color\":\"#EBF0F8\"},\"line\":{\"color\":\"white\"}},\"header\":{\"fill\":{\"color\":\"#C8D4E3\"},\"line\":{\"color\":\"white\"}},\"type\":\"table\"}],\"barpolar\":[{\"marker\":{\"line\":{\"color\":\"#E5ECF6\",\"width\":0.5},\"pattern\":{\"fillmode\":\"overlay\",\"size\":10,\"solidity\":0.2}},\"type\":\"barpolar\"}],\"pie\":[{\"automargin\":true,\"type\":\"pie\"}]},\"layout\":{\"autotypenumbers\":\"strict\",\"colorway\":[\"#636efa\",\"#EF553B\",\"#00cc96\",\"#ab63fa\",\"#FFA15A\",\"#19d3f3\",\"#FF6692\",\"#B6E880\",\"#FF97FF\",\"#FECB52\"],\"font\":{\"color\":\"#2a3f5f\"},\"hovermode\":\"closest\",\"hoverlabel\":{\"align\":\"left\"},\"paper_bgcolor\":\"white\",\"plot_bgcolor\":\"#E5ECF6\",\"polar\":{\"bgcolor\":\"#E5ECF6\",\"angularaxis\":{\"gridcolor\":\"white\",\"linecolor\":\"white\",\"ticks\":\"\"},\"radialaxis\":{\"gridcolor\":\"white\",\"linecolor\":\"white\",\"ticks\":\"\"}},\"ternary\":{\"bgcolor\":\"#E5ECF6\",\"aaxis\":{\"gridcolor\":\"white\",\"linecolor\":\"white\",\"ticks\":\"\"},\"baxis\":{\"gridcolor\":\"white\",\"linecolor\":\"white\",\"ticks\":\"\"},\"caxis\":{\"gridcolor\":\"white\",\"linecolor\":\"white\",\"ticks\":\"\"}},\"coloraxis\":{\"colorbar\":{\"outlinewidth\":0,\"ticks\":\"\"}},\"colorscale\":{\"sequential\":[[0.0,\"#0d0887\"],[0.1111111111111111,\"#46039f\"],[0.2222222222222222,\"#7201a8\"],[0.3333333333333333,\"#9c179e\"],[0.4444444444444444,\"#bd3786\"],[0.5555555555555556,\"#d8576b\"],[0.6666666666666666,\"#ed7953\"],[0.7777777777777778,\"#fb9f3a\"],[0.8888888888888888,\"#fdca26\"],[1.0,\"#f0f921\"]],\"sequentialminus\":[[0.0,\"#0d0887\"],[0.1111111111111111,\"#46039f\"],[0.2222222222222222,\"#7201a8\"],[0.3333333333333333,\"#9c179e\"],[0.4444444444444444,\"#bd3786\"],[0.5555555555555556,\"#d8576b\"],[0.6666666666666666,\"#ed7953\"],[0.7777777777777778,\"#fb9f3a\"],[0.8888888888888888,\"#fdca26\"],[1.0,\"#f0f921\"]],\"diverging\":[[0,\"#8e0152\"],[0.1,\"#c51b7d\"],[0.2,\"#de77ae\"],[0.3,\"#f1b6da\"],[0.4,\"#fde0ef\"],[0.5,\"#f7f7f7\"],[0.6,\"#e6f5d0\"],[0.7,\"#b8e186\"],[0.8,\"#7fbc41\"],[0.9,\"#4d9221\"],[1,\"#276419\"]]},\"xaxis\":{\"gridcolor\":\"white\",\"linecolor\":\"white\",\"ticks\":\"\",\"title\":{\"standoff\":15},\"zerolinecolor\":\"white\",\"automargin\":true,\"zerolinewidth\":2},\"yaxis\":{\"gridcolor\":\"white\",\"linecolor\":\"white\",\"ticks\":\"\",\"title\":{\"standoff\":15},\"zerolinecolor\":\"white\",\"automargin\":true,\"zerolinewidth\":2},\"scene\":{\"xaxis\":{\"backgroundcolor\":\"#E5ECF6\",\"gridcolor\":\"white\",\"linecolor\":\"white\",\"showbackground\":true,\"ticks\":\"\",\"zerolinecolor\":\"white\",\"gridwidth\":2},\"yaxis\":{\"backgroundcolor\":\"#E5ECF6\",\"gridcolor\":\"white\",\"linecolor\":\"white\",\"showbackground\":true,\"ticks\":\"\",\"zerolinecolor\":\"white\",\"gridwidth\":2},\"zaxis\":{\"backgroundcolor\":\"#E5ECF6\",\"gridcolor\":\"white\",\"linecolor\":\"white\",\"showbackground\":true,\"ticks\":\"\",\"zerolinecolor\":\"white\",\"gridwidth\":2}},\"shapedefaults\":{\"line\":{\"color\":\"#2a3f5f\"}},\"annotationdefaults\":{\"arrowcolor\":\"#2a3f5f\",\"arrowhead\":0,\"arrowwidth\":1},\"geo\":{\"bgcolor\":\"white\",\"landcolor\":\"#E5ECF6\",\"subunitcolor\":\"white\",\"showland\":true,\"showlakes\":true,\"lakecolor\":\"white\"},\"title\":{\"x\":0.05},\"mapbox\":{\"style\":\"light\"}}},\"map\":{\"domain\":{\"x\":[0.0,1.0],\"y\":[0.0,1.0]},\"center\":{\"lat\":32.697518286715336,\"lon\":-120.31679520035583},\"zoom\":7,\"style\":\"open-street-map\"},\"legend\":{\"tracegroupgap\":0},\"margin\":{\"t\":0,\"r\":0,\"l\":0,\"b\":0},\"height\":500,\"mapbox\":{\"center\":{\"lat\":32.697518286715336,\"lon\":-120.31679520035583},\"zoom\":3}},                        {\"responsive\": true}                    ).then(function(){\n",
       "                            \n",
       "var gd = document.getElementById('7dbb4394-04b4-4d7e-b0e8-dfa06be62789');\n",
       "var x = new MutationObserver(function (mutations, observer) {{\n",
       "        var display = window.getComputedStyle(gd).display;\n",
       "        if (!display || display === 'none') {{\n",
       "            console.log([gd, 'removed!']);\n",
       "            Plotly.purge(gd);\n",
       "            observer.disconnect();\n",
       "        }}\n",
       "}});\n",
       "\n",
       "// Listen for the removal of the full notebook cells\n",
       "var notebookContainer = gd.closest('#notebook-container');\n",
       "if (notebookContainer) {{\n",
       "    x.observe(notebookContainer, {childList: true});\n",
       "}}\n",
       "\n",
       "// Listen for the clearing of the current output cell\n",
       "var outputEl = gd.closest('.output');\n",
       "if (outputEl) {{\n",
       "    x.observe(outputEl, {childList: true});\n",
       "}}\n",
       "\n",
       "                        })                };                });            </script>        </div>"
      ]
     },
     "metadata": {},
     "output_type": "display_data"
    }
   ],
   "source": [
    "import plotly.express\n",
    "fig = plotly.express.line_map(route, lat=\"lat\", lon=\"lng\", \n",
    "                              hover_name=\"date\",\n",
    "                              zoom=3, height=500)\n",
    "\n",
    "scatter_points = plotly.express.scatter_map(waypoints,    \n",
    "                lat=\"lat\",\n",
    "                lon=\"lng\",\n",
    "                hover_name=\"name\")\n",
    "fig.add_traces(scatter_points.data)\n",
    "\n",
    "fig.update_layout(map_style=\"open-street-map\", map_zoom=7, \n",
    "                  #map_center_lat = 33.9,\n",
    "                  #map_center_lon=-118.5,\n",
    "                  margin={\"r\":0,\"t\":0,\"l\":0,\"b\":0})\n",
    "\n",
    "fig.show()"
   ]
  },
  {
   "cell_type": "code",
   "execution_count": null,
   "id": "7f50775f-b3d8-48fa-a0bb-400be8b01520",
   "metadata": {},
   "outputs": [],
   "source": []
  }
 ],
 "metadata": {
  "kernelspec": {
   "display_name": "Python 3 (ipykernel)",
   "language": "python",
   "name": "python3"
  },
  "language_info": {
   "codemirror_mode": {
    "name": "ipython",
    "version": 3
   },
   "file_extension": ".py",
   "mimetype": "text/x-python",
   "name": "python",
   "nbconvert_exporter": "python",
   "pygments_lexer": "ipython3",
   "version": "3.13.0"
  }
 },
 "nbformat": 4,
 "nbformat_minor": 5
}
