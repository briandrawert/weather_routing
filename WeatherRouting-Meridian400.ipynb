{
 "cells": [
  {
   "cell_type": "code",
   "execution_count": 1,
   "id": "ca6d6e82-4c79-4b8e-98bf-0ecd4e162555",
   "metadata": {},
   "outputs": [],
   "source": [
    "%load_ext autoreload\n",
    "%autoreload 2\n"
   ]
  },
  {
   "cell_type": "code",
   "execution_count": 2,
   "id": "b5116185-9217-497f-8848-4093141b03d5",
   "metadata": {},
   "outputs": [],
   "source": [
    "import weather_routing\n",
    "import pandas\n"
   ]
  },
  {
   "cell_type": "code",
   "execution_count": 3,
   "id": "320dc4d5-1dab-4198-b7a9-618659d7cdb2",
   "metadata": {},
   "outputs": [],
   "source": [
    "##################\n",
    "# Waypoints for the Maridian 400\n",
    "waypoints = pandas.DataFrame([\n",
    "    (34.14104 , -119.25085,  'Channel Islands Start'),\n",
    "    (32.72304, -121.86329 ,  'Meridian 400 Waypoint # 1 '),\n",
    "    (31.65268 , -120.68278,  'Meridian 400 Waypoint # 2 '),\n",
    "    (32.43059 , -119.12433,  'Cortez Bank Buoy'),\n",
    "    (33.50608 , -118.62886,  'Catalina West End Gate'),\n",
    "            ], columns=['lat', 'lng', 'name'])\n",
    "##################"
   ]
  },
  {
   "cell_type": "code",
   "execution_count": 4,
   "id": "2f6a01ed-c353-488b-a91f-9ecb49fdfd0b",
   "metadata": {},
   "outputs": [
    {
     "data": {
      "text/html": [
       "<div>\n",
       "<style scoped>\n",
       "    .dataframe tbody tr th:only-of-type {\n",
       "        vertical-align: middle;\n",
       "    }\n",
       "\n",
       "    .dataframe tbody tr th {\n",
       "        vertical-align: top;\n",
       "    }\n",
       "\n",
       "    .dataframe thead th {\n",
       "        text-align: right;\n",
       "    }\n",
       "</style>\n",
       "<table border=\"1\" class=\"dataframe\">\n",
       "  <thead>\n",
       "    <tr style=\"text-align: right;\">\n",
       "      <th></th>\n",
       "      <th>lat</th>\n",
       "      <th>lng</th>\n",
       "      <th>name</th>\n",
       "    </tr>\n",
       "  </thead>\n",
       "  <tbody>\n",
       "    <tr>\n",
       "      <th>0</th>\n",
       "      <td>34.14104</td>\n",
       "      <td>-119.25085</td>\n",
       "      <td>Channel Islands Start</td>\n",
       "    </tr>\n",
       "    <tr>\n",
       "      <th>1</th>\n",
       "      <td>32.72304</td>\n",
       "      <td>-121.86329</td>\n",
       "      <td>Meridian 400 Waypoint # 1</td>\n",
       "    </tr>\n",
       "    <tr>\n",
       "      <th>2</th>\n",
       "      <td>31.65268</td>\n",
       "      <td>-120.68278</td>\n",
       "      <td>Meridian 400 Waypoint # 2</td>\n",
       "    </tr>\n",
       "    <tr>\n",
       "      <th>3</th>\n",
       "      <td>32.43059</td>\n",
       "      <td>-119.12433</td>\n",
       "      <td>Cortez Bank Buoy</td>\n",
       "    </tr>\n",
       "    <tr>\n",
       "      <th>4</th>\n",
       "      <td>33.50608</td>\n",
       "      <td>-118.62886</td>\n",
       "      <td>Catalina West End Gate</td>\n",
       "    </tr>\n",
       "  </tbody>\n",
       "</table>\n",
       "</div>"
      ],
      "text/plain": [
       "        lat        lng                        name\n",
       "0  34.14104 -119.25085       Channel Islands Start\n",
       "1  32.72304 -121.86329  Meridian 400 Waypoint # 1 \n",
       "2  31.65268 -120.68278  Meridian 400 Waypoint # 2 \n",
       "3  32.43059 -119.12433            Cortez Bank Buoy\n",
       "4  33.50608 -118.62886      Catalina West End Gate"
      ]
     },
     "execution_count": 4,
     "metadata": {},
     "output_type": "execute_result"
    }
   ],
   "source": [
    "waypoints"
   ]
  },
  {
   "cell_type": "code",
   "execution_count": 21,
   "id": "fb9a06f3-1d5a-479a-9d9a-372da94b5f0d",
   "metadata": {
    "scrolled": true
   },
   "outputs": [
    {
     "name": "stdout",
     "output_type": "stream",
     "text": [
      "Channel Islands Start at 2024-12-10 10:00:00-08:00\n",
      "Starting download GRIB2 file downloaded: grib_files/gfs.20241210-18-gfs.t18z.pgrb2.0p25.f000\n",
      "0: twa=110 mag=224.7 dtg=149.2 sog=7.1\n",
      "Starting download GRIB2 file downloaded: grib_files/gfs.20241210-18-gfs.t18z.pgrb2.0p25.f001\n",
      "1: twa=110 mag=226.5 dtg=143.4 sog=6.0\n",
      "Using GRIB2 file: grib_files/gfs.20241210-18-gfs.t18z.pgrb2.0p25.f002\n",
      "2: twa=110 mag=223.8 dtg=138.4 sog=5.2\n",
      "Using GRIB2 file: grib_files/gfs.20241210-18-gfs.t18z.pgrb2.0p25.f003\n",
      "3: twa=110 mag=226.3 dtg=133.9 sog=4.6\n",
      "Using GRIB2 file: grib_files/gfs.20241210-18-gfs.t18z.pgrb2.0p25.f004\n",
      "4: twa=110 mag=217.8 dtg=130.3 sog=3.8\n",
      "Using GRIB2 file: grib_files/gfs.20241210-18-gfs.t18z.pgrb2.0p25.f005\n",
      "5: twa=120 mag=218.9 dtg=127.5 sog=3.1\n",
      "Using GRIB2 file: grib_files/gfs.20241210-18-gfs.t18z.pgrb2.0p25.f006\n",
      "6: twa=120 mag=214.2 dtg=125.3 sog=2.4\n",
      "Using GRIB2 file: grib_files/gfs.20241210-18-gfs.t18z.pgrb2.0p25.f007\n",
      "7: twa=120 mag=199.7 dtg=123.2 sog=2.9\n",
      "Using GRIB2 file: grib_files/gfs.20241210-18-gfs.t18z.pgrb2.0p25.f008\n",
      "8: twa=132.2 mag=287.7 dtg=121.5 sog=2.5\n",
      "Using GRIB2 file: grib_files/gfs.20241210-18-gfs.t18z.pgrb2.0p25.f009\n",
      "9: twa=132.2 mag=275.3 dtg=119.2 sog=2.8\n",
      "Using GRIB2 file: grib_files/gfs.20241210-18-gfs.t18z.pgrb2.0p25.f010\n",
      "10: twa=120 mag=284.1 dtg=117.0 sog=3.0\n",
      "Using GRIB2 file: grib_files/gfs.20241210-18-gfs.t18z.pgrb2.0p25.f011\n",
      "11: twa=132.2 mag=281.2 dtg=115.0 sog=2.7\n",
      "Using GRIB2 file: grib_files/gfs.20241210-18-gfs.t18z.pgrb2.0p25.f012\n",
      "12: twa=120 mag=280.9 dtg=112.6 sog=3.3\n",
      "Using GRIB2 file: grib_files/gfs.20241210-18-gfs.t18z.pgrb2.0p25.f013\n",
      "13: twa=110 mag=251.7 dtg=110.5 sog=2.2\n",
      "Using GRIB2 file: grib_files/gfs.20241210-18-gfs.t18z.pgrb2.0p25.f014\n",
      "14: twa=120 mag=259.9 dtg=106.3 sog=4.5\n",
      "Using GRIB2 file: grib_files/gfs.20241210-18-gfs.t18z.pgrb2.0p25.f015\n",
      "15: twa=120 mag=254.7 dtg=101.8 sog=4.8\n",
      "Using GRIB2 file: grib_files/gfs.20241210-18-gfs.t18z.pgrb2.0p25.f016\n",
      "16: twa=120 mag=249.3 dtg=97.3 sog=4.7\n",
      "Using GRIB2 file: grib_files/gfs.20241210-18-gfs.t18z.pgrb2.0p25.f017\n",
      "17: twa=120 mag=251.9 dtg=92.4 sog=5.1\n",
      "Using GRIB2 file: grib_files/gfs.20241210-18-gfs.t18z.pgrb2.0p25.f018\n",
      "18: twa=120 mag=256.4 dtg=88.0 sog=4.8\n",
      "Using GRIB2 file: grib_files/gfs.20241210-18-gfs.t18z.pgrb2.0p25.f019\n",
      "19: twa=120 mag=252.9 dtg=83.4 sog=4.9\n",
      "Using GRIB2 file: grib_files/gfs.20241210-18-gfs.t18z.pgrb2.0p25.f020\n",
      "20: twa=120 mag=246.7 dtg=78.7 sog=4.9\n",
      "Using GRIB2 file: grib_files/gfs.20241210-18-gfs.t18z.pgrb2.0p25.f021\n",
      "21: twa=120 mag=254.0 dtg=74.0 sog=5.2\n",
      "Using GRIB2 file: grib_files/gfs.20241210-18-gfs.t18z.pgrb2.0p25.f022\n",
      "22: twa=120 mag=252.0 dtg=69.6 sog=4.8\n",
      "Using GRIB2 file: grib_files/gfs.20241210-18-gfs.t18z.pgrb2.0p25.f023\n",
      "23: twa=120 mag=255.2 dtg=65.6 sog=4.7\n",
      "Using GRIB2 file: grib_files/gfs.20241210-18-gfs.t18z.pgrb2.0p25.f024\n",
      "24: twa=120 mag=254.4 dtg=62.3 sog=3.8\n",
      "Using GRIB2 file: grib_files/gfs.20241210-18-gfs.t18z.pgrb2.0p25.f025\n",
      "25: twa=120 mag=246.5 dtg=59.2 sog=3.4\n",
      "Using GRIB2 file: grib_files/gfs.20241210-18-gfs.t18z.pgrb2.0p25.f026\n",
      "26: twa=90 mag=230.4 dtg=55.8 sog=3.4\n",
      "Using GRIB2 file: grib_files/gfs.20241210-18-gfs.t18z.pgrb2.0p25.f027\n",
      "27: twa=90 mag=207.9 dtg=52.3 sog=3.6\n",
      "Using GRIB2 file: grib_files/gfs.20241210-18-gfs.t18z.pgrb2.0p25.f028\n",
      "28: twa=75 mag=198.7 dtg=49.6 sog=2.9\n",
      "Using GRIB2 file: grib_files/gfs.20241210-18-gfs.t18z.pgrb2.0p25.f029\n",
      "29: twa=75 mag=186.7 dtg=47.6 sog=2.5\n",
      "Using GRIB2 file: grib_files/gfs.20241210-18-gfs.t18z.pgrb2.0p25.f030\n",
      "30: twa=60 mag=193.4 dtg=45.4 sog=2.6\n",
      "Using GRIB2 file: grib_files/gfs.20241210-18-gfs.t18z.pgrb2.0p25.f031\n",
      "31: twa=110 mag=222.6 dtg=43.2 sog=2.2\n",
      "Using GRIB2 file: grib_files/gfs.20241210-18-gfs.t18z.pgrb2.0p25.f032\n",
      "32: twa=75 mag=206.4 dtg=41.1 sog=2.2\n",
      "Using GRIB2 file: grib_files/gfs.20241210-18-gfs.t18z.pgrb2.0p25.f033\n",
      "33: twa=90 mag=207.5 dtg=37.8 sog=3.5\n",
      "Using GRIB2 file: grib_files/gfs.20241210-18-gfs.t18z.pgrb2.0p25.f034\n",
      "34: twa=110 mag=229.9 dtg=36.7 sog=1.1\n",
      "Using GRIB2 file: grib_files/gfs.20241210-18-gfs.t18z.pgrb2.0p25.f035\n",
      "35: twa=60 mag=200.6 dtg=35.8 sog=1.1\n",
      "Using GRIB2 file: grib_files/gfs.20241210-18-gfs.t18z.pgrb2.0p25.f036\n",
      "36: twa=75 mag=247.6 dtg=34.7 sog=1.2\n",
      "Using GRIB2 file: grib_files/gfs.20241210-18-gfs.t18z.pgrb2.0p25.f037\n",
      "37: twa=60 mag=261.0 dtg=33.8 sog=1.0\n",
      "Using GRIB2 file: grib_files/gfs.20241210-18-gfs.t18z.pgrb2.0p25.f038\n",
      "38: twa=60 mag=202.5 dtg=31.0 sog=3.1\n",
      "Using GRIB2 file: grib_files/gfs.20241210-18-gfs.t18z.pgrb2.0p25.f039\n",
      "39: twa=75 mag=224.3 dtg=28.6 sog=2.4\n",
      "Using GRIB2 file: grib_files/gfs.20241210-18-gfs.t18z.pgrb2.0p25.f040\n",
      "40: twa=110 mag=213.0 dtg=24.8 sog=4.0\n",
      "Using GRIB2 file: grib_files/gfs.20241210-18-gfs.t18z.pgrb2.0p25.f041\n",
      "41: twa=90 mag=250.5 dtg=22.7 sog=2.2\n",
      "Using GRIB2 file: grib_files/gfs.20241210-18-gfs.t18z.pgrb2.0p25.f042\n",
      "42: twa=90 mag=235.4 dtg=18.6 sog=4.1\n",
      "Using GRIB2 file: grib_files/gfs.20241210-18-gfs.t18z.pgrb2.0p25.f043\n",
      "43: twa=60 mag=203.3 dtg=14.7 sog=4.7\n",
      "Using GRIB2 file: grib_files/gfs.20241210-18-gfs.t18z.pgrb2.0p25.f044\n",
      "44: twa=90 mag=239.1 dtg=14.0 sog=0.7\n",
      "Using GRIB2 file: grib_files/gfs.20241210-18-gfs.t18z.pgrb2.0p25.f045\n",
      "45: twa=90 mag=240.3 dtg=11.5 sog=2.5\n",
      "Using GRIB2 file: grib_files/gfs.20241210-18-gfs.t18z.pgrb2.0p25.f046\n",
      "46: twa=75 mag=266.4 dtg=8.4 sog=3.5\n",
      "Using GRIB2 file: grib_files/gfs.20241210-18-gfs.t18z.pgrb2.0p25.f047\n",
      "47: twa=48.2 mag=274.9 dtg=7.0 sog=2.2\n",
      "Using GRIB2 file: grib_files/gfs.20241210-18-gfs.t18z.pgrb2.0p25.f048\n",
      "48: twa=52 mag=187.9 dtg=4.6 sog=3.1\n",
      "Using GRIB2 file: grib_files/gfs.20241210-18-gfs.t18z.pgrb2.0p25.f049\n",
      "49: twa=48.2 mag=198.2 dtg=3.0 sog=3.6\n",
      "Using GRIB2 file: grib_files/gfs.20241210-18-gfs.t18z.pgrb2.0p25.f050\n",
      "50: twa=48.2 mag=306.0 dtg=1.1 sog=3.5\n",
      "Using GRIB2 file: grib_files/gfs.20241210-18-gfs.t18z.pgrb2.0p25.f051\n",
      "Meridian 400 Waypoint # 1  at 2024-12-12 13:00:00-08:00\n",
      "Using GRIB2 file: grib_files/gfs.20241210-18-gfs.t18z.pgrb2.0p25.f051\n",
      "51: twa=120 mag=155.5 dtg=83.4 sog=5.6\n",
      "Using GRIB2 file: grib_files/gfs.20241210-18-gfs.t18z.pgrb2.0p25.f052\n",
      "52: twa=120 mag=151.3 dtg=78.0 sog=5.6\n",
      "Using GRIB2 file: grib_files/gfs.20241210-18-gfs.t18z.pgrb2.0p25.f053\n",
      "53: twa=120 mag=147.2 dtg=72.5 sog=5.6\n",
      "Using GRIB2 file: grib_files/gfs.20241210-18-gfs.t18z.pgrb2.0p25.f054\n",
      "54: twa=120 mag=150.2 dtg=67.3 sog=5.5\n",
      "Using GRIB2 file: grib_files/gfs.20241210-18-gfs.t18z.pgrb2.0p25.f055\n",
      "55: twa=110 mag=148.0 dtg=61.6 sog=6.0\n",
      "Using GRIB2 file: grib_files/gfs.20241210-18-gfs.t18z.pgrb2.0p25.f056\n",
      "56: twa=135 mag=156.7 dtg=55.1 sog=7.3\n",
      "Using GRIB2 file: grib_files/gfs.20241210-18-gfs.t18z.pgrb2.0p25.f057\n",
      "57: twa=151.4 mag=156.2 dtg=49.6 sog=6.3\n",
      "Using GRIB2 file: grib_files/gfs.20241210-18-gfs.t18z.pgrb2.0p25.f058\n",
      "58: twa=151.4 mag=152.2 dtg=44.1 sog=6.3\n",
      "Using GRIB2 file: grib_files/gfs.20241210-18-gfs.t18z.pgrb2.0p25.f059\n",
      "59: twa=150 mag=98.7 dtg=38.2 sog=6.4\n",
      "Using GRIB2 file: grib_files/gfs.20241210-18-gfs.t18z.pgrb2.0p25.f060\n",
      "60: twa=151.4 mag=99.9 dtg=32.6 sog=6.3\n",
      "Using GRIB2 file: grib_files/gfs.20241210-18-gfs.t18z.pgrb2.0p25.f061\n",
      "61: twa=151.4 mag=106.0 dtg=26.9 sog=6.3\n",
      "Using GRIB2 file: grib_files/gfs.20241210-18-gfs.t18z.pgrb2.0p25.f062\n",
      "62: twa=151.4 mag=160.1 dtg=21.4 sog=6.3\n",
      "Using GRIB2 file: grib_files/gfs.20241210-18-gfs.t18z.pgrb2.0p25.f063\n",
      "63: twa=150 mag=99.6 dtg=16.6 sog=5.6\n",
      "Using GRIB2 file: grib_files/gfs.20241210-18-gfs.t18z.pgrb2.0p25.f064\n",
      "64: twa=150 mag=161.7 dtg=11.8 sog=5.6\n",
      "Using GRIB2 file: grib_files/gfs.20241210-18-gfs.t18z.pgrb2.0p25.f065\n",
      "65: twa=150 mag=103.3 dtg=7.8 sog=4.6\n",
      "Using GRIB2 file: grib_files/gfs.20241210-18-gfs.t18z.pgrb2.0p25.f066\n",
      "66: twa=165 mag=130.8 dtg=3.0 sog=4.8\n",
      "Using GRIB2 file: grib_files/gfs.20241210-18-gfs.t18z.pgrb2.0p25.f067\n",
      "67: twa=180 mag=148.5 dtg=0.5 sog=3.5\n",
      "Using GRIB2 file: grib_files/gfs.20241210-18-gfs.t18z.pgrb2.0p25.f068\n",
      "Meridian 400 Waypoint # 2  at 2024-12-13 06:00:00-08:00\n",
      "Using GRIB2 file: grib_files/gfs.20241210-18-gfs.t18z.pgrb2.0p25.f068\n",
      "68: twa=90 mag=54.7 dtg=84.9 sog=7.2\n",
      "Using GRIB2 file: grib_files/gfs.20241210-18-gfs.t18z.pgrb2.0p25.f069\n",
      "69: twa=90 mag=48.8 dtg=79.0 sog=6.0\n",
      "Using GRIB2 file: grib_files/gfs.20241210-18-gfs.t18z.pgrb2.0p25.f070\n",
      "70: twa=90 mag=49.0 dtg=75.5 sog=3.6\n",
      "Using GRIB2 file: grib_files/gfs.20241210-18-gfs.t18z.pgrb2.0p25.f071\n",
      "71: twa=90 mag=50.6 dtg=73.5 sog=2.0\n",
      "Using GRIB2 file: grib_files/gfs.20241210-18-gfs.t18z.pgrb2.0p25.f072\n",
      "72: twa=110 mag=61.1 dtg=71.0 sog=2.5\n",
      "Using GRIB2 file: grib_files/gfs.20241210-18-gfs.t18z.pgrb2.0p25.f073\n",
      "73: twa=110 mag=57.1 dtg=67.5 sog=3.5\n",
      "Using GRIB2 file: grib_files/gfs.20241210-18-gfs.t18z.pgrb2.0p25.f074\n",
      "74: twa=110 mag=49.3 dtg=64.2 sog=3.3\n",
      "Using GRIB2 file: grib_files/gfs.20241210-18-gfs.t18z.pgrb2.0p25.f075\n",
      "75: twa=120 mag=49.8 dtg=59.0 sog=5.3\n",
      "Using GRIB2 file: grib_files/gfs.20241210-18-gfs.t18z.pgrb2.0p25.f076\n",
      "76: twa=110 mag=57.2 dtg=53.1 sog=6.0\n",
      "Using GRIB2 file: grib_files/gfs.20241210-18-gfs.t18z.pgrb2.0p25.f077\n",
      "77: twa=110 mag=66.1 dtg=48.2 sog=5.0\n",
      "Using GRIB2 file: grib_files/gfs.20241210-18-gfs.t18z.pgrb2.0p25.f078\n",
      "78: twa=90 mag=52.2 dtg=42.2 sog=6.0\n",
      "Using GRIB2 file: grib_files/gfs.20241210-18-gfs.t18z.pgrb2.0p25.f079\n",
      "79: twa=90 mag=59.2 dtg=36.2 sog=6.0\n",
      "Using GRIB2 file: grib_files/gfs.20241210-18-gfs.t18z.pgrb2.0p25.f080\n",
      "80: twa=90 mag=80.6 dtg=30.4 sog=6.0\n",
      "Using GRIB2 file: grib_files/gfs.20241210-18-gfs.t18z.pgrb2.0p25.f081\n",
      "81: twa=75 mag=70.2 dtg=25.4 sog=5.1\n",
      "Using GRIB2 file: grib_files/gfs.20241210-18-gfs.t18z.pgrb2.0p25.f082\n",
      "82: twa=90 mag=72.4 dtg=20.5 sog=5.0\n",
      "Using GRIB2 file: grib_files/gfs.20241210-18-gfs.t18z.pgrb2.0p25.f083\n",
      "83: twa=90 mag=64.8 dtg=17.8 sog=2.7\n",
      "Using GRIB2 file: grib_files/gfs.20241210-18-gfs.t18z.pgrb2.0p25.f084\n",
      "84: twa=110 mag=53.1 dtg=14.9 sog=2.9\n",
      "Using GRIB2 file: grib_files/gfs.20241210-18-gfs.t18z.pgrb2.0p25.f085\n",
      "85: twa=110 mag=46.6 dtg=11.1 sog=3.9\n",
      "Using GRIB2 file: grib_files/gfs.20241210-18-gfs.t18z.pgrb2.0p25.f086\n",
      "86: twa=110 mag=58.4 dtg=8.4 sog=2.7\n",
      "Using GRIB2 file: grib_files/gfs.20241210-18-gfs.t18z.pgrb2.0p25.f087\n",
      "87: twa=90 mag=68.4 dtg=7.9 sog=0.6\n",
      "Using GRIB2 file: grib_files/gfs.20241210-18-gfs.t18z.pgrb2.0p25.f088\n",
      "88: twa=120 mag=100.9 dtg=6.4 sog=1.9\n",
      "Using GRIB2 file: grib_files/gfs.20241210-18-gfs.t18z.pgrb2.0p25.f089\n",
      "89: twa=135 mag=86.9 dtg=4.0 sog=3.2\n",
      "Using GRIB2 file: grib_files/gfs.20241210-18-gfs.t18z.pgrb2.0p25.f090\n",
      "90: twa=150 mag=18.2 dtg=1.1 sog=3.2\n",
      "Using GRIB2 file: grib_files/gfs.20241210-18-gfs.t18z.pgrb2.0p25.f091\n",
      "Cortez Bank Buoy at 2024-12-14 05:00:00-08:00\n",
      "Using GRIB2 file: grib_files/gfs.20241210-18-gfs.t18z.pgrb2.0p25.f091\n",
      "91: twa=120 mag=3.3 dtg=64.6 sog=5.6\n",
      "Using GRIB2 file: grib_files/gfs.20241210-18-gfs.t18z.pgrb2.0p25.f092\n",
      "92: twa=132.2 mag=346.3 dtg=60.9 sog=4.7\n",
      "Using GRIB2 file: grib_files/gfs.20241210-18-gfs.t18z.pgrb2.0p25.f093\n",
      "93: twa=132.2 mag=344.6 dtg=57.5 sog=4.7\n",
      "Using GRIB2 file: grib_files/gfs.20241210-18-gfs.t18z.pgrb2.0p25.f094\n",
      "94: twa=132.2 mag=71.0 dtg=54.1 sog=4.7\n",
      "Using GRIB2 file: grib_files/gfs.20241210-18-gfs.t18z.pgrb2.0p25.f095\n",
      "95: twa=135 mag=351.5 dtg=49.5 sog=5.7\n",
      "Using GRIB2 file: grib_files/gfs.20241210-18-gfs.t18z.pgrb2.0p25.f096\n",
      "96: twa=135 mag=359.2 dtg=44.7 sog=5.7\n",
      "Using GRIB2 file: grib_files/gfs.20241210-18-gfs.t18z.pgrb2.0p25.f097\n",
      "97: twa=139.1 mag=358.5 dtg=40.5 sog=5.3\n",
      "Using GRIB2 file: grib_files/gfs.20241210-18-gfs.t18z.pgrb2.0p25.f098\n",
      "98: twa=110 mag=26.7 dtg=33.5 sog=7.1\n",
      "Using GRIB2 file: grib_files/gfs.20241210-18-gfs.t18z.pgrb2.0p25.f099\n",
      "99: twa=75 mag=44.7 dtg=26.0 sog=7.5\n",
      "Using GRIB2 file: grib_files/gfs.20241210-18-gfs.t18z.pgrb2.0p25.f100\n",
      "100: twa=75 mag=42.3 dtg=18.5 sog=7.5\n",
      "Using GRIB2 file: grib_files/gfs.20241210-18-gfs.t18z.pgrb2.0p25.f101\n",
      "101: twa=90 mag=54.2 dtg=12.9 sog=6.0\n",
      "Using GRIB2 file: grib_files/gfs.20241210-18-gfs.t18z.pgrb2.0p25.f102\n",
      "102: twa=75 mag=47.7 dtg=6.8 sog=6.8\n",
      "Using GRIB2 file: grib_files/gfs.20241210-18-gfs.t18z.pgrb2.0p25.f103\n",
      "103: twa=45.8 mag=30.2 dtg=2.6 sog=5.4\n",
      "Using GRIB2 file: grib_files/gfs.20241210-18-gfs.t18z.pgrb2.0p25.f104\n",
      "Catalina West End Gate at 2024-12-14 18:00:00-08:00\n"
     ]
    }
   ],
   "source": [
    "route = weather_routing.route_shortest_path(waypoints, hour_offset=0)"
   ]
  },
  {
   "cell_type": "code",
   "execution_count": 18,
   "id": "6e008627-989a-4b67-b0d0-332bc14024d4",
   "metadata": {},
   "outputs": [
    {
     "data": {
      "text/html": [
       "<div>\n",
       "<style scoped>\n",
       "    .dataframe tbody tr th:only-of-type {\n",
       "        vertical-align: middle;\n",
       "    }\n",
       "\n",
       "    .dataframe tbody tr th {\n",
       "        vertical-align: top;\n",
       "    }\n",
       "\n",
       "    .dataframe thead th {\n",
       "        text-align: right;\n",
       "    }\n",
       "</style>\n",
       "<table border=\"1\" class=\"dataframe\">\n",
       "  <thead>\n",
       "    <tr style=\"text-align: right;\">\n",
       "      <th></th>\n",
       "      <th>lat</th>\n",
       "      <th>lng</th>\n",
       "      <th>twa</th>\n",
       "      <th>mag</th>\n",
       "      <th>dtg</th>\n",
       "      <th>sog</th>\n",
       "      <th>date</th>\n",
       "    </tr>\n",
       "  </thead>\n",
       "  <tbody>\n",
       "    <tr>\n",
       "      <th>0</th>\n",
       "      <td>34.141040</td>\n",
       "      <td>-119.250850</td>\n",
       "      <td>NaN</td>\n",
       "      <td>NaN</td>\n",
       "      <td>NaN</td>\n",
       "      <td>NaN</td>\n",
       "      <td>NaT</td>\n",
       "    </tr>\n",
       "    <tr>\n",
       "      <th>1</th>\n",
       "      <td>34.073311</td>\n",
       "      <td>-119.328174</td>\n",
       "      <td>90.0</td>\n",
       "      <td>223.410699</td>\n",
       "      <td>150.724545</td>\n",
       "      <td>5.595773</td>\n",
       "      <td>2024-12-11 20:00:00-08:00</td>\n",
       "    </tr>\n",
       "    <tr>\n",
       "      <th>2</th>\n",
       "      <td>34.032820</td>\n",
       "      <td>-119.378962</td>\n",
       "      <td>90.0</td>\n",
       "      <td>226.116118</td>\n",
       "      <td>147.297448</td>\n",
       "      <td>3.506164</td>\n",
       "      <td>2024-12-11 21:00:00-08:00</td>\n",
       "    </tr>\n",
       "    <tr>\n",
       "      <th>3</th>\n",
       "      <td>33.974928</td>\n",
       "      <td>-119.435273</td>\n",
       "      <td>75.0</td>\n",
       "      <td>218.897194</td>\n",
       "      <td>143.096873</td>\n",
       "      <td>4.465103</td>\n",
       "      <td>2024-12-11 22:00:00-08:00</td>\n",
       "    </tr>\n",
       "    <tr>\n",
       "      <th>4</th>\n",
       "      <td>33.949891</td>\n",
       "      <td>-119.445515</td>\n",
       "      <td>52.0</td>\n",
       "      <td>198.742847</td>\n",
       "      <td>141.888908</td>\n",
       "      <td>1.587423</td>\n",
       "      <td>2024-12-11 23:00:00-08:00</td>\n",
       "    </tr>\n",
       "    <tr>\n",
       "      <th>...</th>\n",
       "      <td>...</td>\n",
       "      <td>...</td>\n",
       "      <td>...</td>\n",
       "      <td>...</td>\n",
       "      <td>...</td>\n",
       "      <td>...</td>\n",
       "      <td>...</td>\n",
       "    </tr>\n",
       "    <tr>\n",
       "      <th>88</th>\n",
       "      <td>33.198407</td>\n",
       "      <td>-118.497366</td>\n",
       "      <td>44.8</td>\n",
       "      <td>18.741913</td>\n",
       "      <td>19.614661</td>\n",
       "      <td>6.130000</td>\n",
       "      <td>2024-12-15 11:00:00-08:00</td>\n",
       "    </tr>\n",
       "    <tr>\n",
       "      <th>89</th>\n",
       "      <td>33.295103</td>\n",
       "      <td>-118.458182</td>\n",
       "      <td>44.8</td>\n",
       "      <td>18.711100</td>\n",
       "      <td>15.285527</td>\n",
       "      <td>6.130000</td>\n",
       "      <td>2024-12-15 12:00:00-08:00</td>\n",
       "    </tr>\n",
       "    <tr>\n",
       "      <th>90</th>\n",
       "      <td>33.334025</td>\n",
       "      <td>-118.571130</td>\n",
       "      <td>44.8</td>\n",
       "      <td>292.440775</td>\n",
       "      <td>10.727696</td>\n",
       "      <td>6.130000</td>\n",
       "      <td>2024-12-15 13:00:00-08:00</td>\n",
       "    </tr>\n",
       "    <tr>\n",
       "      <th>91</th>\n",
       "      <td>33.428661</td>\n",
       "      <td>-118.525244</td>\n",
       "      <td>44.8</td>\n",
       "      <td>22.029495</td>\n",
       "      <td>6.967021</td>\n",
       "      <td>6.130000</td>\n",
       "      <td>2024-12-15 14:00:00-08:00</td>\n",
       "    </tr>\n",
       "    <tr>\n",
       "      <th>92</th>\n",
       "      <td>33.467799</td>\n",
       "      <td>-118.638259</td>\n",
       "      <td>44.8</td>\n",
       "      <td>292.572030</td>\n",
       "      <td>2.346103</td>\n",
       "      <td>6.130000</td>\n",
       "      <td>2024-12-15 15:00:00-08:00</td>\n",
       "    </tr>\n",
       "  </tbody>\n",
       "</table>\n",
       "<p>93 rows × 7 columns</p>\n",
       "</div>"
      ],
      "text/plain": [
       "          lat         lng   twa         mag         dtg       sog  \\\n",
       "0   34.141040 -119.250850   NaN         NaN         NaN       NaN   \n",
       "1   34.073311 -119.328174  90.0  223.410699  150.724545  5.595773   \n",
       "2   34.032820 -119.378962  90.0  226.116118  147.297448  3.506164   \n",
       "3   33.974928 -119.435273  75.0  218.897194  143.096873  4.465103   \n",
       "4   33.949891 -119.445515  52.0  198.742847  141.888908  1.587423   \n",
       "..        ...         ...   ...         ...         ...       ...   \n",
       "88  33.198407 -118.497366  44.8   18.741913   19.614661  6.130000   \n",
       "89  33.295103 -118.458182  44.8   18.711100   15.285527  6.130000   \n",
       "90  33.334025 -118.571130  44.8  292.440775   10.727696  6.130000   \n",
       "91  33.428661 -118.525244  44.8   22.029495    6.967021  6.130000   \n",
       "92  33.467799 -118.638259  44.8  292.572030    2.346103  6.130000   \n",
       "\n",
       "                        date  \n",
       "0                        NaT  \n",
       "1  2024-12-11 20:00:00-08:00  \n",
       "2  2024-12-11 21:00:00-08:00  \n",
       "3  2024-12-11 22:00:00-08:00  \n",
       "4  2024-12-11 23:00:00-08:00  \n",
       "..                       ...  \n",
       "88 2024-12-15 11:00:00-08:00  \n",
       "89 2024-12-15 12:00:00-08:00  \n",
       "90 2024-12-15 13:00:00-08:00  \n",
       "91 2024-12-15 14:00:00-08:00  \n",
       "92 2024-12-15 15:00:00-08:00  \n",
       "\n",
       "[93 rows x 7 columns]"
      ]
     },
     "execution_count": 18,
     "metadata": {},
     "output_type": "execute_result"
    }
   ],
   "source": [
    "route"
   ]
  },
  {
   "cell_type": "code",
   "execution_count": 19,
   "id": "f05fa81d-8e56-48ae-babe-5da8f1ccca71",
   "metadata": {},
   "outputs": [
    {
     "data": {
      "application/vnd.plotly.v1+json": {
       "config": {
        "plotlyServerURL": "https://plot.ly"
       },
       "data": [
        {
         "hovertemplate": "<b>%{hovertext}</b><br><br>lat=%{lat}<br>lng=%{lon}<extra></extra>",
         "hovertext": [
          null,
          "2024-12-11T20:00:00-08:00",
          "2024-12-11T21:00:00-08:00",
          "2024-12-11T22:00:00-08:00",
          "2024-12-11T23:00:00-08:00",
          "2024-12-12T00:00:00-08:00",
          "2024-12-12T01:00:00-08:00",
          "2024-12-12T02:00:00-08:00",
          "2024-12-12T03:00:00-08:00",
          "2024-12-12T04:00:00-08:00",
          "2024-12-12T05:00:00-08:00",
          "2024-12-12T06:00:00-08:00",
          "2024-12-12T07:00:00-08:00",
          "2024-12-12T08:00:00-08:00",
          "2024-12-12T09:00:00-08:00",
          "2024-12-12T10:00:00-08:00",
          "2024-12-12T11:00:00-08:00",
          "2024-12-12T12:00:00-08:00",
          "2024-12-12T13:00:00-08:00",
          "2024-12-12T14:00:00-08:00",
          "2024-12-12T15:00:00-08:00",
          "2024-12-12T16:00:00-08:00",
          "2024-12-12T17:00:00-08:00",
          "2024-12-12T18:00:00-08:00",
          "2024-12-12T19:00:00-08:00",
          "2024-12-12T20:00:00-08:00",
          "2024-12-12T21:00:00-08:00",
          "2024-12-12T22:00:00-08:00",
          "2024-12-12T23:00:00-08:00",
          "2024-12-13T00:00:00-08:00",
          "2024-12-13T01:00:00-08:00",
          "2024-12-13T02:00:00-08:00",
          "2024-12-13T03:00:00-08:00",
          "2024-12-13T04:00:00-08:00",
          "2024-12-13T05:00:00-08:00",
          "2024-12-13T06:00:00-08:00",
          "2024-12-13T07:00:00-08:00",
          "2024-12-13T08:00:00-08:00",
          "2024-12-13T09:00:00-08:00",
          "2024-12-13T10:00:00-08:00",
          "2024-12-13T11:00:00-08:00",
          "2024-12-13T12:00:00-08:00",
          "2024-12-13T13:00:00-08:00",
          "2024-12-13T14:00:00-08:00",
          "2024-12-13T15:00:00-08:00",
          "2024-12-13T16:00:00-08:00",
          "2024-12-13T17:00:00-08:00",
          "2024-12-13T18:00:00-08:00",
          "2024-12-13T19:00:00-08:00",
          "2024-12-13T20:00:00-08:00",
          "2024-12-13T21:00:00-08:00",
          "2024-12-13T22:00:00-08:00",
          "2024-12-13T23:00:00-08:00",
          "2024-12-14T00:00:00-08:00",
          "2024-12-14T01:00:00-08:00",
          "2024-12-14T02:00:00-08:00",
          "2024-12-14T03:00:00-08:00",
          "2024-12-14T04:00:00-08:00",
          "2024-12-14T05:00:00-08:00",
          "2024-12-14T06:00:00-08:00",
          "2024-12-14T07:00:00-08:00",
          "2024-12-14T08:00:00-08:00",
          "2024-12-14T09:00:00-08:00",
          "2024-12-14T10:00:00-08:00",
          "2024-12-14T11:00:00-08:00",
          "2024-12-14T12:00:00-08:00",
          "2024-12-14T13:00:00-08:00",
          "2024-12-14T14:00:00-08:00",
          "2024-12-14T15:00:00-08:00",
          "2024-12-14T16:00:00-08:00",
          "2024-12-14T17:00:00-08:00",
          "2024-12-14T18:00:00-08:00",
          "2024-12-14T19:00:00-08:00",
          "2024-12-14T20:00:00-08:00",
          "2024-12-14T21:00:00-08:00",
          "2024-12-14T22:00:00-08:00",
          "2024-12-14T23:00:00-08:00",
          "2024-12-15T00:00:00-08:00",
          "2024-12-15T01:00:00-08:00",
          "2024-12-15T02:00:00-08:00",
          "2024-12-15T03:00:00-08:00",
          "2024-12-15T04:00:00-08:00",
          "2024-12-15T05:00:00-08:00",
          "2024-12-15T06:00:00-08:00",
          "2024-12-15T07:00:00-08:00",
          "2024-12-15T08:00:00-08:00",
          "2024-12-15T09:00:00-08:00",
          "2024-12-15T10:00:00-08:00",
          "2024-12-15T11:00:00-08:00",
          "2024-12-15T12:00:00-08:00",
          "2024-12-15T13:00:00-08:00",
          "2024-12-15T14:00:00-08:00",
          "2024-12-15T15:00:00-08:00"
         ],
         "lat": [
          34.14104,
          34.0733109339631,
          34.03281995869028,
          33.974928270677076,
          33.9498906920758,
          33.88290701856929,
          33.82021404305019,
          33.75970598286189,
          33.71955998515375,
          33.66842696627735,
          33.61073963517944,
          33.6221445216398,
          33.5559507452632,
          33.4991606461943,
          33.43930095948976,
          33.37280675275988,
          33.28997378179091,
          33.22882512005488,
          33.136063527858134,
          33.07523160421187,
          33.01325807201318,
          32.96128790381562,
          32.9034697922301,
          32.84675168917787,
          32.79150501589191,
          32.73775622051591,
          32.685268244738516,
          32.64821665806142,
          32.605212235713964,
          32.671230116306475,
          32.71360723081367,
          32.748297128575786,
          32.7624504587749,
          32.7294576258153,
          32.710732686507356,
          32.69518450060603,
          32.7259472391334,
          32.65658561623628,
          32.65674580212599,
          32.64169741263944,
          32.61568734454974,
          32.59631776030892,
          32.531503774632796,
          32.46995693292995,
          32.432394608026826,
          32.37329632896556,
          32.333614050150665,
          32.32099837608015,
          32.30284379446146,
          32.285311321526045,
          32.26939853575075,
          32.25944888266208,
          32.21106567393232,
          32.194302710296434,
          32.15021020835014,
          32.13106346261326,
          32.10801737095293,
          32.08379254158567,
          32.05190379013195,
          32.005437494989316,
          31.953215871681735,
          31.913193185975025,
          31.891488788356106,
          31.86143055537546,
          31.778250310108213,
          31.691885018035403,
          31.672551846302778,
          31.643003967198837,
          31.709325527240146,
          31.77394036213072,
          31.817911578676668,
          31.887277595885823,
          31.936692485430633,
          31.975208966138943,
          32.013971333208715,
          32.06290688264432,
          32.10347829780412,
          32.16987798826755,
          32.26470824836383,
          32.35834891179334,
          32.448775161758036,
          32.54704529930889,
          32.63514751971553,
          32.726021604996305,
          32.81515073296514,
          32.90716816160198,
          33.001272681734015,
          33.10172914141619,
          33.19840713780865,
          33.29510275860667,
          33.33402530151908,
          33.42866061449764,
          33.46779906962876
         ],
         "legendgroup": "",
         "line": {
          "color": "#636efa"
         },
         "lon": [
          -119.25085,
          -119.32817410855763,
          -119.3789624657853,
          -119.4352734075631,
          -119.44551477347369,
          -119.48021725434437,
          -119.53989478795505,
          -119.57154191375426,
          -119.5910508657409,
          -119.617444720629,
          -119.65538701303184,
          -119.71580211383778,
          -119.74104354762888,
          -119.85974420140683,
          -119.95108756087501,
          -120.01452570983339,
          -120.06712756698293,
          -120.12493559336686,
          -120.2042981313008,
          -120.2936270301243,
          -120.38176896323112,
          -120.45102804813389,
          -120.51331335507574,
          -120.63844290405154,
          -120.76442280295213,
          -120.89123912814944,
          -121.01872410591965,
          -121.13088789544338,
          -121.21208008122538,
          -121.28166805648593,
          -121.34705270838724,
          -121.40983094589902,
          -121.48079184973261,
          -121.5849395058714,
          -121.70060843206493,
          -121.8333267393653,
          -121.86982979355462,
          -121.8740654932941,
          -121.79157184471475,
          -121.70073809650336,
          -121.61348884549183,
          -121.50457597412678,
          -121.42417157497667,
          -121.36620331423467,
          -121.33471676333491,
          -121.31984521985495,
          -121.31828943810251,
          -121.27124169330519,
          -121.21808756076572,
          -121.15991452054908,
          -121.11113491296034,
          -121.07250584893751,
          -121.0869453676762,
          -121.01373184089299,
          -120.96685690387804,
          -120.95111988592015,
          -120.94682005766474,
          -120.93895438024344,
          -120.92759745503965,
          -120.9123721710456,
          -120.89179642482591,
          -120.87960970644701,
          -120.8599516738057,
          -120.83447844934871,
          -120.7951582040106,
          -120.77094158833071,
          -120.69847948281586,
          -120.66102106703636,
          -120.52953129903584,
          -120.39632860325558,
          -120.2448165392328,
          -120.11480374842309,
          -119.97262793754203,
          -119.82577929893405,
          -119.67895876427706,
          -119.5613062950543,
          -119.43545357120708,
          -119.31050212317429,
          -119.22471035705328,
          -119.13702105461297,
          -119.08087578212776,
          -118.99733705831937,
          -118.90165397942063,
          -118.82402765072989,
          -118.74351503596922,
          -118.66766001576701,
          -118.59544929323879,
          -118.53656962334992,
          -118.49736621904162,
          -118.45818162919927,
          -118.57113023190063,
          -118.52524418802918,
          -118.63825949232518
         ],
         "mode": "lines",
         "name": "",
         "showlegend": false,
         "subplot": "map",
         "type": "scattermap"
        },
        {
         "hovertemplate": "<b>%{hovertext}</b><br><br>lat=%{lat}<br>lng=%{lon}<extra></extra>",
         "hovertext": [
          "Channel Islands Start",
          "Meridian 400 Waypoint # 1 ",
          "Meridian 400 Waypoint # 2 ",
          "Cortez Bank Buoy",
          "Catalina West End Gate"
         ],
         "lat": [
          34.14104,
          32.72304,
          31.65268,
          32.43059,
          33.50608
         ],
         "legendgroup": "",
         "lon": [
          -119.25085,
          -121.86329,
          -120.68278,
          -119.12433,
          -118.62886
         ],
         "marker": {
          "color": "#636efa"
         },
         "mode": "markers",
         "name": "",
         "showlegend": false,
         "subplot": "map",
         "type": "scattermap"
        }
       ],
       "layout": {
        "autosize": true,
        "legend": {
         "tracegroupgap": 0
        },
        "map": {
         "bearing": 0,
         "center": {
          "lat": 31.906123737240094,
          "lon": -119.37896057533214
         },
         "domain": {
          "x": [
           0,
           1
          ],
          "y": [
           0,
           1
          ]
         },
         "pitch": 0,
         "style": "open-street-map",
         "zoom": 7.588973365996585
        },
        "mapbox": {
         "center": {
          "lat": 32.697518286715336,
          "lon": -120.31679520035583
         },
         "zoom": 3
        },
        "margin": {
         "b": 0,
         "l": 0,
         "r": 0,
         "t": 0
        },
        "template": {
         "data": {
          "bar": [
           {
            "error_x": {
             "color": "#2a3f5f"
            },
            "error_y": {
             "color": "#2a3f5f"
            },
            "marker": {
             "line": {
              "color": "#E5ECF6",
              "width": 0.5
             },
             "pattern": {
              "fillmode": "overlay",
              "size": 10,
              "solidity": 0.2
             }
            },
            "type": "bar"
           }
          ],
          "barpolar": [
           {
            "marker": {
             "line": {
              "color": "#E5ECF6",
              "width": 0.5
             },
             "pattern": {
              "fillmode": "overlay",
              "size": 10,
              "solidity": 0.2
             }
            },
            "type": "barpolar"
           }
          ],
          "carpet": [
           {
            "aaxis": {
             "endlinecolor": "#2a3f5f",
             "gridcolor": "white",
             "linecolor": "white",
             "minorgridcolor": "white",
             "startlinecolor": "#2a3f5f"
            },
            "baxis": {
             "endlinecolor": "#2a3f5f",
             "gridcolor": "white",
             "linecolor": "white",
             "minorgridcolor": "white",
             "startlinecolor": "#2a3f5f"
            },
            "type": "carpet"
           }
          ],
          "choropleth": [
           {
            "colorbar": {
             "outlinewidth": 0,
             "ticks": ""
            },
            "type": "choropleth"
           }
          ],
          "contour": [
           {
            "colorbar": {
             "outlinewidth": 0,
             "ticks": ""
            },
            "colorscale": [
             [
              0,
              "#0d0887"
             ],
             [
              0.1111111111111111,
              "#46039f"
             ],
             [
              0.2222222222222222,
              "#7201a8"
             ],
             [
              0.3333333333333333,
              "#9c179e"
             ],
             [
              0.4444444444444444,
              "#bd3786"
             ],
             [
              0.5555555555555556,
              "#d8576b"
             ],
             [
              0.6666666666666666,
              "#ed7953"
             ],
             [
              0.7777777777777778,
              "#fb9f3a"
             ],
             [
              0.8888888888888888,
              "#fdca26"
             ],
             [
              1,
              "#f0f921"
             ]
            ],
            "type": "contour"
           }
          ],
          "contourcarpet": [
           {
            "colorbar": {
             "outlinewidth": 0,
             "ticks": ""
            },
            "type": "contourcarpet"
           }
          ],
          "heatmap": [
           {
            "colorbar": {
             "outlinewidth": 0,
             "ticks": ""
            },
            "colorscale": [
             [
              0,
              "#0d0887"
             ],
             [
              0.1111111111111111,
              "#46039f"
             ],
             [
              0.2222222222222222,
              "#7201a8"
             ],
             [
              0.3333333333333333,
              "#9c179e"
             ],
             [
              0.4444444444444444,
              "#bd3786"
             ],
             [
              0.5555555555555556,
              "#d8576b"
             ],
             [
              0.6666666666666666,
              "#ed7953"
             ],
             [
              0.7777777777777778,
              "#fb9f3a"
             ],
             [
              0.8888888888888888,
              "#fdca26"
             ],
             [
              1,
              "#f0f921"
             ]
            ],
            "type": "heatmap"
           }
          ],
          "heatmapgl": [
           {
            "colorbar": {
             "outlinewidth": 0,
             "ticks": ""
            },
            "colorscale": [
             [
              0,
              "#0d0887"
             ],
             [
              0.1111111111111111,
              "#46039f"
             ],
             [
              0.2222222222222222,
              "#7201a8"
             ],
             [
              0.3333333333333333,
              "#9c179e"
             ],
             [
              0.4444444444444444,
              "#bd3786"
             ],
             [
              0.5555555555555556,
              "#d8576b"
             ],
             [
              0.6666666666666666,
              "#ed7953"
             ],
             [
              0.7777777777777778,
              "#fb9f3a"
             ],
             [
              0.8888888888888888,
              "#fdca26"
             ],
             [
              1,
              "#f0f921"
             ]
            ],
            "type": "heatmapgl"
           }
          ],
          "histogram": [
           {
            "marker": {
             "pattern": {
              "fillmode": "overlay",
              "size": 10,
              "solidity": 0.2
             }
            },
            "type": "histogram"
           }
          ],
          "histogram2d": [
           {
            "colorbar": {
             "outlinewidth": 0,
             "ticks": ""
            },
            "colorscale": [
             [
              0,
              "#0d0887"
             ],
             [
              0.1111111111111111,
              "#46039f"
             ],
             [
              0.2222222222222222,
              "#7201a8"
             ],
             [
              0.3333333333333333,
              "#9c179e"
             ],
             [
              0.4444444444444444,
              "#bd3786"
             ],
             [
              0.5555555555555556,
              "#d8576b"
             ],
             [
              0.6666666666666666,
              "#ed7953"
             ],
             [
              0.7777777777777778,
              "#fb9f3a"
             ],
             [
              0.8888888888888888,
              "#fdca26"
             ],
             [
              1,
              "#f0f921"
             ]
            ],
            "type": "histogram2d"
           }
          ],
          "histogram2dcontour": [
           {
            "colorbar": {
             "outlinewidth": 0,
             "ticks": ""
            },
            "colorscale": [
             [
              0,
              "#0d0887"
             ],
             [
              0.1111111111111111,
              "#46039f"
             ],
             [
              0.2222222222222222,
              "#7201a8"
             ],
             [
              0.3333333333333333,
              "#9c179e"
             ],
             [
              0.4444444444444444,
              "#bd3786"
             ],
             [
              0.5555555555555556,
              "#d8576b"
             ],
             [
              0.6666666666666666,
              "#ed7953"
             ],
             [
              0.7777777777777778,
              "#fb9f3a"
             ],
             [
              0.8888888888888888,
              "#fdca26"
             ],
             [
              1,
              "#f0f921"
             ]
            ],
            "type": "histogram2dcontour"
           }
          ],
          "mesh3d": [
           {
            "colorbar": {
             "outlinewidth": 0,
             "ticks": ""
            },
            "type": "mesh3d"
           }
          ],
          "parcoords": [
           {
            "line": {
             "colorbar": {
              "outlinewidth": 0,
              "ticks": ""
             }
            },
            "type": "parcoords"
           }
          ],
          "pie": [
           {
            "automargin": true,
            "type": "pie"
           }
          ],
          "scatter": [
           {
            "fillpattern": {
             "fillmode": "overlay",
             "size": 10,
             "solidity": 0.2
            },
            "type": "scatter"
           }
          ],
          "scatter3d": [
           {
            "line": {
             "colorbar": {
              "outlinewidth": 0,
              "ticks": ""
             }
            },
            "marker": {
             "colorbar": {
              "outlinewidth": 0,
              "ticks": ""
             }
            },
            "type": "scatter3d"
           }
          ],
          "scattercarpet": [
           {
            "marker": {
             "colorbar": {
              "outlinewidth": 0,
              "ticks": ""
             }
            },
            "type": "scattercarpet"
           }
          ],
          "scattergeo": [
           {
            "marker": {
             "colorbar": {
              "outlinewidth": 0,
              "ticks": ""
             }
            },
            "type": "scattergeo"
           }
          ],
          "scattergl": [
           {
            "marker": {
             "colorbar": {
              "outlinewidth": 0,
              "ticks": ""
             }
            },
            "type": "scattergl"
           }
          ],
          "scattermapbox": [
           {
            "marker": {
             "colorbar": {
              "outlinewidth": 0,
              "ticks": ""
             }
            },
            "type": "scattermapbox"
           }
          ],
          "scatterpolar": [
           {
            "marker": {
             "colorbar": {
              "outlinewidth": 0,
              "ticks": ""
             }
            },
            "type": "scatterpolar"
           }
          ],
          "scatterpolargl": [
           {
            "marker": {
             "colorbar": {
              "outlinewidth": 0,
              "ticks": ""
             }
            },
            "type": "scatterpolargl"
           }
          ],
          "scatterternary": [
           {
            "marker": {
             "colorbar": {
              "outlinewidth": 0,
              "ticks": ""
             }
            },
            "type": "scatterternary"
           }
          ],
          "surface": [
           {
            "colorbar": {
             "outlinewidth": 0,
             "ticks": ""
            },
            "colorscale": [
             [
              0,
              "#0d0887"
             ],
             [
              0.1111111111111111,
              "#46039f"
             ],
             [
              0.2222222222222222,
              "#7201a8"
             ],
             [
              0.3333333333333333,
              "#9c179e"
             ],
             [
              0.4444444444444444,
              "#bd3786"
             ],
             [
              0.5555555555555556,
              "#d8576b"
             ],
             [
              0.6666666666666666,
              "#ed7953"
             ],
             [
              0.7777777777777778,
              "#fb9f3a"
             ],
             [
              0.8888888888888888,
              "#fdca26"
             ],
             [
              1,
              "#f0f921"
             ]
            ],
            "type": "surface"
           }
          ],
          "table": [
           {
            "cells": {
             "fill": {
              "color": "#EBF0F8"
             },
             "line": {
              "color": "white"
             }
            },
            "header": {
             "fill": {
              "color": "#C8D4E3"
             },
             "line": {
              "color": "white"
             }
            },
            "type": "table"
           }
          ]
         },
         "layout": {
          "annotationdefaults": {
           "arrowcolor": "#2a3f5f",
           "arrowhead": 0,
           "arrowwidth": 1
          },
          "autotypenumbers": "strict",
          "coloraxis": {
           "colorbar": {
            "outlinewidth": 0,
            "ticks": ""
           }
          },
          "colorscale": {
           "diverging": [
            [
             0,
             "#8e0152"
            ],
            [
             0.1,
             "#c51b7d"
            ],
            [
             0.2,
             "#de77ae"
            ],
            [
             0.3,
             "#f1b6da"
            ],
            [
             0.4,
             "#fde0ef"
            ],
            [
             0.5,
             "#f7f7f7"
            ],
            [
             0.6,
             "#e6f5d0"
            ],
            [
             0.7,
             "#b8e186"
            ],
            [
             0.8,
             "#7fbc41"
            ],
            [
             0.9,
             "#4d9221"
            ],
            [
             1,
             "#276419"
            ]
           ],
           "sequential": [
            [
             0,
             "#0d0887"
            ],
            [
             0.1111111111111111,
             "#46039f"
            ],
            [
             0.2222222222222222,
             "#7201a8"
            ],
            [
             0.3333333333333333,
             "#9c179e"
            ],
            [
             0.4444444444444444,
             "#bd3786"
            ],
            [
             0.5555555555555556,
             "#d8576b"
            ],
            [
             0.6666666666666666,
             "#ed7953"
            ],
            [
             0.7777777777777778,
             "#fb9f3a"
            ],
            [
             0.8888888888888888,
             "#fdca26"
            ],
            [
             1,
             "#f0f921"
            ]
           ],
           "sequentialminus": [
            [
             0,
             "#0d0887"
            ],
            [
             0.1111111111111111,
             "#46039f"
            ],
            [
             0.2222222222222222,
             "#7201a8"
            ],
            [
             0.3333333333333333,
             "#9c179e"
            ],
            [
             0.4444444444444444,
             "#bd3786"
            ],
            [
             0.5555555555555556,
             "#d8576b"
            ],
            [
             0.6666666666666666,
             "#ed7953"
            ],
            [
             0.7777777777777778,
             "#fb9f3a"
            ],
            [
             0.8888888888888888,
             "#fdca26"
            ],
            [
             1,
             "#f0f921"
            ]
           ]
          },
          "colorway": [
           "#636efa",
           "#EF553B",
           "#00cc96",
           "#ab63fa",
           "#FFA15A",
           "#19d3f3",
           "#FF6692",
           "#B6E880",
           "#FF97FF",
           "#FECB52"
          ],
          "font": {
           "color": "#2a3f5f"
          },
          "geo": {
           "bgcolor": "white",
           "lakecolor": "white",
           "landcolor": "#E5ECF6",
           "showlakes": true,
           "showland": true,
           "subunitcolor": "white"
          },
          "hoverlabel": {
           "align": "left"
          },
          "hovermode": "closest",
          "mapbox": {
           "style": "light"
          },
          "paper_bgcolor": "white",
          "plot_bgcolor": "#E5ECF6",
          "polar": {
           "angularaxis": {
            "gridcolor": "white",
            "linecolor": "white",
            "ticks": ""
           },
           "bgcolor": "#E5ECF6",
           "radialaxis": {
            "gridcolor": "white",
            "linecolor": "white",
            "ticks": ""
           }
          },
          "scene": {
           "xaxis": {
            "backgroundcolor": "#E5ECF6",
            "gridcolor": "white",
            "gridwidth": 2,
            "linecolor": "white",
            "showbackground": true,
            "ticks": "",
            "zerolinecolor": "white"
           },
           "yaxis": {
            "backgroundcolor": "#E5ECF6",
            "gridcolor": "white",
            "gridwidth": 2,
            "linecolor": "white",
            "showbackground": true,
            "ticks": "",
            "zerolinecolor": "white"
           },
           "zaxis": {
            "backgroundcolor": "#E5ECF6",
            "gridcolor": "white",
            "gridwidth": 2,
            "linecolor": "white",
            "showbackground": true,
            "ticks": "",
            "zerolinecolor": "white"
           }
          },
          "shapedefaults": {
           "line": {
            "color": "#2a3f5f"
           }
          },
          "ternary": {
           "aaxis": {
            "gridcolor": "white",
            "linecolor": "white",
            "ticks": ""
           },
           "baxis": {
            "gridcolor": "white",
            "linecolor": "white",
            "ticks": ""
           },
           "bgcolor": "#E5ECF6",
           "caxis": {
            "gridcolor": "white",
            "linecolor": "white",
            "ticks": ""
           }
          },
          "title": {
           "x": 0.05
          },
          "xaxis": {
           "automargin": true,
           "gridcolor": "white",
           "linecolor": "white",
           "ticks": "",
           "title": {
            "standoff": 15
           },
           "zerolinecolor": "white",
           "zerolinewidth": 2
          },
          "yaxis": {
           "automargin": true,
           "gridcolor": "white",
           "linecolor": "white",
           "ticks": "",
           "title": {
            "standoff": 15
           },
           "zerolinecolor": "white",
           "zerolinewidth": 2
          }
         }
        }
       }
      },
      "image/png": "[encoded data removed]",
      "text/html": [
       "<div>                            <div id=\"7dbb4394-04b4-4d7e-b0e8-dfa06be62789\" class=\"plotly-graph-div\" style=\"height:500px; width:100%;\"></div>            <script type=\"text/javascript\">                require([\"plotly\"], function(Plotly) {                    window.PLOTLYENV=window.PLOTLYENV || {};                                    if (document.getElementById(\"7dbb4394-04b4-4d7e-b0e8-dfa06be62789\")) {                    Plotly.newPlot(                        \"7dbb4394-04b4-4d7e-b0e8-dfa06be62789\",                        [{\"hovertemplate\":\"\\u003cb\\u003e%{hovertext}\\u003c\\u002fb\\u003e\\u003cbr\\u003e\\u003cbr\\u003elat=%{lat}\\u003cbr\\u003elng=%{lon}\\u003cextra\\u003e\\u003c\\u002fextra\\u003e\",\"hovertext\":[null,\"2024-12-11T20:00:00-08:00\",\"2024-12-11T21:00:00-08:00\",\"2024-12-11T22:00:00-08:00\",\"2024-12-11T23:00:00-08:00\",\"2024-12-12T00:00:00-08:00\",\"2024-12-12T01:00:00-08:00\",\"2024-12-12T02:00:00-08:00\",\"2024-12-12T03:00:00-08:00\",\"2024-12-12T04:00:00-08:00\",\"2024-12-12T05:00:00-08:00\",\"2024-12-12T06:00:00-08:00\",\"2024-12-12T07:00:00-08:00\",\"2024-12-12T08:00:00-08:00\",\"2024-12-12T09:00:00-08:00\",\"2024-12-12T10:00:00-08:00\",\"2024-12-12T11:00:00-08:00\",\"2024-12-12T12:00:00-08:00\",\"2024-12-12T13:00:00-08:00\",\"2024-12-12T14:00:00-08:00\",\"2024-12-12T15:00:00-08:00\",\"2024-12-12T16:00:00-08:00\",\"2024-12-12T17:00:00-08:00\",\"2024-12-12T18:00:00-08:00\",\"2024-12-12T19:00:00-08:00\",\"2024-12-12T20:00:00-08:00\",\"2024-12-12T21:00:00-08:00\",\"2024-12-12T22:00:00-08:00\",\"2024-12-12T23:00:00-08:00\",\"2024-12-13T00:00:00-08:00\",\"2024-12-13T01:00:00-08:00\",\"2024-12-13T02:00:00-08:00\",\"2024-12-13T03:00:00-08:00\",\"2024-12-13T04:00:00-08:00\",\"2024-12-13T05:00:00-08:00\",\"2024-12-13T06:00:00-08:00\",\"2024-12-13T07:00:00-08:00\",\"2024-12-13T08:00:00-08:00\",\"2024-12-13T09:00:00-08:00\",\"2024-12-13T10:00:00-08:00\",\"2024-12-13T11:00:00-08:00\",\"2024-12-13T12:00:00-08:00\",\"2024-12-13T13:00:00-08:00\",\"2024-12-13T14:00:00-08:00\",\"2024-12-13T15:00:00-08:00\",\"2024-12-13T16:00:00-08:00\",\"2024-12-13T17:00:00-08:00\",\"2024-12-13T18:00:00-08:00\",\"2024-12-13T19:00:00-08:00\",\"2024-12-13T20:00:00-08:00\",\"2024-12-13T21:00:00-08:00\",\"2024-12-13T22:00:00-08:00\",\"2024-12-13T23:00:00-08:00\",\"2024-12-14T00:00:00-08:00\",\"2024-12-14T01:00:00-08:00\",\"2024-12-14T02:00:00-08:00\",\"2024-12-14T03:00:00-08:00\",\"2024-12-14T04:00:00-08:00\",\"2024-12-14T05:00:00-08:00\",\"2024-12-14T06:00:00-08:00\",\"2024-12-14T07:00:00-08:00\",\"2024-12-14T08:00:00-08:00\",\"2024-12-14T09:00:00-08:00\",\"2024-12-14T10:00:00-08:00\",\"2024-12-14T11:00:00-08:00\",\"2024-12-14T12:00:00-08:00\",\"2024-12-14T13:00:00-08:00\",\"2024-12-14T14:00:00-08:00\",\"2024-12-14T15:00:00-08:00\",\"2024-12-14T16:00:00-08:00\",\"2024-12-14T17:00:00-08:00\",\"2024-12-14T18:00:00-08:00\",\"2024-12-14T19:00:00-08:00\",\"2024-12-14T20:00:00-08:00\",\"2024-12-14T21:00:00-08:00\",\"2024-12-14T22:00:00-08:00\",\"2024-12-14T23:00:00-08:00\",\"2024-12-15T00:00:00-08:00\",\"2024-12-15T01:00:00-08:00\",\"2024-12-15T02:00:00-08:00\",\"2024-12-15T03:00:00-08:00\",\"2024-12-15T04:00:00-08:00\",\"2024-12-15T05:00:00-08:00\",\"2024-12-15T06:00:00-08:00\",\"2024-12-15T07:00:00-08:00\",\"2024-12-15T08:00:00-08:00\",\"2024-12-15T09:00:00-08:00\",\"2024-12-15T10:00:00-08:00\",\"2024-12-15T11:00:00-08:00\",\"2024-12-15T12:00:00-08:00\",\"2024-12-15T13:00:00-08:00\",\"2024-12-15T14:00:00-08:00\",\"2024-12-15T15:00:00-08:00\"],\"lat\":[34.14104,34.0733109339631,34.03281995869028,33.974928270677076,33.9498906920758,33.88290701856929,33.82021404305019,33.75970598286189,33.71955998515375,33.66842696627735,33.61073963517944,33.6221445216398,33.5559507452632,33.4991606461943,33.43930095948976,33.37280675275988,33.28997378179091,33.22882512005488,33.136063527858134,33.07523160421187,33.01325807201318,32.96128790381562,32.9034697922301,32.84675168917787,32.79150501589191,32.73775622051591,32.685268244738516,32.64821665806142,32.605212235713964,32.671230116306475,32.71360723081367,32.748297128575786,32.7624504587749,32.7294576258153,32.710732686507356,32.69518450060603,32.7259472391334,32.65658561623628,32.65674580212599,32.64169741263944,32.61568734454974,32.59631776030892,32.531503774632796,32.46995693292995,32.432394608026826,32.37329632896556,32.333614050150665,32.32099837608015,32.30284379446146,32.285311321526045,32.26939853575075,32.25944888266208,32.21106567393232,32.194302710296434,32.15021020835014,32.13106346261326,32.10801737095293,32.08379254158567,32.05190379013195,32.005437494989316,31.953215871681735,31.913193185975025,31.891488788356106,31.86143055537546,31.778250310108213,31.691885018035403,31.672551846302778,31.643003967198837,31.709325527240146,31.77394036213072,31.817911578676668,31.887277595885823,31.936692485430633,31.975208966138943,32.013971333208715,32.06290688264432,32.10347829780412,32.16987798826755,32.26470824836383,32.35834891179334,32.448775161758036,32.54704529930889,32.63514751971553,32.726021604996305,32.81515073296514,32.90716816160198,33.001272681734015,33.10172914141619,33.19840713780865,33.29510275860667,33.33402530151908,33.42866061449764,33.46779906962876],\"legendgroup\":\"\",\"line\":{\"color\":\"#636efa\"},\"lon\":[-119.25085,-119.32817410855763,-119.3789624657853,-119.4352734075631,-119.44551477347369,-119.48021725434437,-119.53989478795505,-119.57154191375426,-119.5910508657409,-119.617444720629,-119.65538701303184,-119.71580211383778,-119.74104354762888,-119.85974420140683,-119.95108756087501,-120.01452570983339,-120.06712756698293,-120.12493559336686,-120.2042981313008,-120.2936270301243,-120.38176896323112,-120.45102804813389,-120.51331335507574,-120.63844290405154,-120.76442280295213,-120.89123912814944,-121.01872410591965,-121.13088789544338,-121.21208008122538,-121.28166805648593,-121.34705270838724,-121.40983094589902,-121.48079184973261,-121.5849395058714,-121.70060843206493,-121.8333267393653,-121.86982979355462,-121.8740654932941,-121.79157184471475,-121.70073809650336,-121.61348884549183,-121.50457597412678,-121.42417157497667,-121.36620331423467,-121.33471676333491,-121.31984521985495,-121.31828943810251,-121.27124169330519,-121.21808756076572,-121.15991452054908,-121.11113491296034,-121.07250584893751,-121.0869453676762,-121.01373184089299,-120.96685690387804,-120.95111988592015,-120.94682005766474,-120.93895438024344,-120.92759745503965,-120.9123721710456,-120.89179642482591,-120.87960970644701,-120.8599516738057,-120.83447844934871,-120.7951582040106,-120.77094158833071,-120.69847948281586,-120.66102106703636,-120.52953129903584,-120.39632860325558,-120.2448165392328,-120.11480374842309,-119.97262793754203,-119.82577929893405,-119.67895876427706,-119.5613062950543,-119.43545357120708,-119.31050212317429,-119.22471035705328,-119.13702105461297,-119.08087578212776,-118.99733705831937,-118.90165397942063,-118.82402765072989,-118.74351503596922,-118.66766001576701,-118.59544929323879,-118.53656962334992,-118.49736621904162,-118.45818162919927,-118.57113023190063,-118.52524418802918,-118.63825949232518],\"mode\":\"lines\",\"name\":\"\",\"showlegend\":false,\"subplot\":\"map\",\"type\":\"scattermap\"},{\"hovertemplate\":\"\\u003cb\\u003e%{hovertext}\\u003c\\u002fb\\u003e\\u003cbr\\u003e\\u003cbr\\u003elat=%{lat}\\u003cbr\\u003elng=%{lon}\\u003cextra\\u003e\\u003c\\u002fextra\\u003e\",\"hovertext\":[\"Channel Islands Start\",\"Meridian 400 Waypoint # 1 \",\"Meridian 400 Waypoint # 2 \",\"Cortez Bank Buoy\",\"Catalina West End Gate\"],\"lat\":[34.14104,32.72304,31.65268,32.43059,33.50608],\"legendgroup\":\"\",\"lon\":[-119.25085,-121.86329,-120.68278,-119.12433,-118.62886],\"marker\":{\"color\":\"#636efa\"},\"mode\":\"markers\",\"name\":\"\",\"showlegend\":false,\"subplot\":\"map\",\"type\":\"scattermap\"}],                        {\"template\":{\"data\":{\"histogram2dcontour\":[{\"type\":\"histogram2dcontour\",\"colorbar\":{\"outlinewidth\":0,\"ticks\":\"\"},\"colorscale\":[[0.0,\"#0d0887\"],[0.1111111111111111,\"#46039f\"],[0.2222222222222222,\"#7201a8\"],[0.3333333333333333,\"#9c179e\"],[0.4444444444444444,\"#bd3786\"],[0.5555555555555556,\"#d8576b\"],[0.6666666666666666,\"#ed7953\"],[0.7777777777777778,\"#fb9f3a\"],[0.8888888888888888,\"#fdca26\"],[1.0,\"#f0f921\"]]}],\"choropleth\":[{\"type\":\"choropleth\",\"colorbar\":{\"outlinewidth\":0,\"ticks\":\"\"}}],\"histogram2d\":[{\"type\":\"histogram2d\",\"colorbar\":{\"outlinewidth\":0,\"ticks\":\"\"},\"colorscale\":[[0.0,\"#0d0887\"],[0.1111111111111111,\"#46039f\"],[0.2222222222222222,\"#7201a8\"],[0.3333333333333333,\"#9c179e\"],[0.4444444444444444,\"#bd3786\"],[0.5555555555555556,\"#d8576b\"],[0.6666666666666666,\"#ed7953\"],[0.7777777777777778,\"#fb9f3a\"],[0.8888888888888888,\"#fdca26\"],[1.0,\"#f0f921\"]]}],\"heatmap\":[{\"type\":\"heatmap\",\"colorbar\":{\"outlinewidth\":0,\"ticks\":\"\"},\"colorscale\":[[0.0,\"#0d0887\"],[0.1111111111111111,\"#46039f\"],[0.2222222222222222,\"#7201a8\"],[0.3333333333333333,\"#9c179e\"],[0.4444444444444444,\"#bd3786\"],[0.5555555555555556,\"#d8576b\"],[0.6666666666666666,\"#ed7953\"],[0.7777777777777778,\"#fb9f3a\"],[0.8888888888888888,\"#fdca26\"],[1.0,\"#f0f921\"]]}],\"heatmapgl\":[{\"type\":\"heatmapgl\",\"colorbar\":{\"outlinewidth\":0,\"ticks\":\"\"},\"colorscale\":[[0.0,\"#0d0887\"],[0.1111111111111111,\"#46039f\"],[0.2222222222222222,\"#7201a8\"],[0.3333333333333333,\"#9c179e\"],[0.4444444444444444,\"#bd3786\"],[0.5555555555555556,\"#d8576b\"],[0.6666666666666666,\"#ed7953\"],[0.7777777777777778,\"#fb9f3a\"],[0.8888888888888888,\"#fdca26\"],[1.0,\"#f0f921\"]]}],\"contourcarpet\":[{\"type\":\"contourcarpet\",\"colorbar\":{\"outlinewidth\":0,\"ticks\":\"\"}}],\"contour\":[{\"type\":\"contour\",\"colorbar\":{\"outlinewidth\":0,\"ticks\":\"\"},\"colorscale\":[[0.0,\"#0d0887\"],[0.1111111111111111,\"#46039f\"],[0.2222222222222222,\"#7201a8\"],[0.3333333333333333,\"#9c179e\"],[0.4444444444444444,\"#bd3786\"],[0.5555555555555556,\"#d8576b\"],[0.6666666666666666,\"#ed7953\"],[0.7777777777777778,\"#fb9f3a\"],[0.8888888888888888,\"#fdca26\"],[1.0,\"#f0f921\"]]}],\"surface\":[{\"type\":\"surface\",\"colorbar\":{\"outlinewidth\":0,\"ticks\":\"\"},\"colorscale\":[[0.0,\"#0d0887\"],[0.1111111111111111,\"#46039f\"],[0.2222222222222222,\"#7201a8\"],[0.3333333333333333,\"#9c179e\"],[0.4444444444444444,\"#bd3786\"],[0.5555555555555556,\"#d8576b\"],[0.6666666666666666,\"#ed7953\"],[0.7777777777777778,\"#fb9f3a\"],[0.8888888888888888,\"#fdca26\"],[1.0,\"#f0f921\"]]}],\"mesh3d\":[{\"type\":\"mesh3d\",\"colorbar\":{\"outlinewidth\":0,\"ticks\":\"\"}}],\"scatter\":[{\"fillpattern\":{\"fillmode\":\"overlay\",\"size\":10,\"solidity\":0.2},\"type\":\"scatter\"}],\"parcoords\":[{\"type\":\"parcoords\",\"line\":{\"colorbar\":{\"outlinewidth\":0,\"ticks\":\"\"}}}],\"scatterpolargl\":[{\"type\":\"scatterpolargl\",\"marker\":{\"colorbar\":{\"outlinewidth\":0,\"ticks\":\"\"}}}],\"bar\":[{\"error_x\":{\"color\":\"#2a3f5f\"},\"error_y\":{\"color\":\"#2a3f5f\"},\"marker\":{\"line\":{\"color\":\"#E5ECF6\",\"width\":0.5},\"pattern\":{\"fillmode\":\"overlay\",\"size\":10,\"solidity\":0.2}},\"type\":\"bar\"}],\"scattergeo\":[{\"type\":\"scattergeo\",\"marker\":{\"colorbar\":{\"outlinewidth\":0,\"ticks\":\"\"}}}],\"scatterpolar\":[{\"type\":\"scatterpolar\",\"marker\":{\"colorbar\":{\"outlinewidth\":0,\"ticks\":\"\"}}}],\"histogram\":[{\"marker\":{\"pattern\":{\"fillmode\":\"overlay\",\"size\":10,\"solidity\":0.2}},\"type\":\"histogram\"}],\"scattergl\":[{\"type\":\"scattergl\",\"marker\":{\"colorbar\":{\"outlinewidth\":0,\"ticks\":\"\"}}}],\"scatter3d\":[{\"type\":\"scatter3d\",\"line\":{\"colorbar\":{\"outlinewidth\":0,\"ticks\":\"\"}},\"marker\":{\"colorbar\":{\"outlinewidth\":0,\"ticks\":\"\"}}}],\"scattermapbox\":[{\"type\":\"scattermapbox\",\"marker\":{\"colorbar\":{\"outlinewidth\":0,\"ticks\":\"\"}}}],\"scatterternary\":[{\"type\":\"scatterternary\",\"marker\":{\"colorbar\":{\"outlinewidth\":0,\"ticks\":\"\"}}}],\"scattercarpet\":[{\"type\":\"scattercarpet\",\"marker\":{\"colorbar\":{\"outlinewidth\":0,\"ticks\":\"\"}}}],\"carpet\":[{\"aaxis\":{\"endlinecolor\":\"#2a3f5f\",\"gridcolor\":\"white\",\"linecolor\":\"white\",\"minorgridcolor\":\"white\",\"startlinecolor\":\"#2a3f5f\"},\"baxis\":{\"endlinecolor\":\"#2a3f5f\",\"gridcolor\":\"white\",\"linecolor\":\"white\",\"minorgridcolor\":\"white\",\"startlinecolor\":\"#2a3f5f\"},\"type\":\"carpet\"}],\"table\":[{\"cells\":{\"fill\":{\"color\":\"#EBF0F8\"},\"line\":{\"color\":\"white\"}},\"header\":{\"fill\":{\"color\":\"#C8D4E3\"},\"line\":{\"color\":\"white\"}},\"type\":\"table\"}],\"barpolar\":[{\"marker\":{\"line\":{\"color\":\"#E5ECF6\",\"width\":0.5},\"pattern\":{\"fillmode\":\"overlay\",\"size\":10,\"solidity\":0.2}},\"type\":\"barpolar\"}],\"pie\":[{\"automargin\":true,\"type\":\"pie\"}]},\"layout\":{\"autotypenumbers\":\"strict\",\"colorway\":[\"#636efa\",\"#EF553B\",\"#00cc96\",\"#ab63fa\",\"#FFA15A\",\"#19d3f3\",\"#FF6692\",\"#B6E880\",\"#FF97FF\",\"#FECB52\"],\"font\":{\"color\":\"#2a3f5f\"},\"hovermode\":\"closest\",\"hoverlabel\":{\"align\":\"left\"},\"paper_bgcolor\":\"white\",\"plot_bgcolor\":\"#E5ECF6\",\"polar\":{\"bgcolor\":\"#E5ECF6\",\"angularaxis\":{\"gridcolor\":\"white\",\"linecolor\":\"white\",\"ticks\":\"\"},\"radialaxis\":{\"gridcolor\":\"white\",\"linecolor\":\"white\",\"ticks\":\"\"}},\"ternary\":{\"bgcolor\":\"#E5ECF6\",\"aaxis\":{\"gridcolor\":\"white\",\"linecolor\":\"white\",\"ticks\":\"\"},\"baxis\":{\"gridcolor\":\"white\",\"linecolor\":\"white\",\"ticks\":\"\"},\"caxis\":{\"gridcolor\":\"white\",\"linecolor\":\"white\",\"ticks\":\"\"}},\"coloraxis\":{\"colorbar\":{\"outlinewidth\":0,\"ticks\":\"\"}},\"colorscale\":{\"sequential\":[[0.0,\"#0d0887\"],[0.1111111111111111,\"#46039f\"],[0.2222222222222222,\"#7201a8\"],[0.3333333333333333,\"#9c179e\"],[0.4444444444444444,\"#bd3786\"],[0.5555555555555556,\"#d8576b\"],[0.6666666666666666,\"#ed7953\"],[0.7777777777777778,\"#fb9f3a\"],[0.8888888888888888,\"#fdca26\"],[1.0,\"#f0f921\"]],\"sequentialminus\":[[0.0,\"#0d0887\"],[0.1111111111111111,\"#46039f\"],[0.2222222222222222,\"#7201a8\"],[0.3333333333333333,\"#9c179e\"],[0.4444444444444444,\"#bd3786\"],[0.5555555555555556,\"#d8576b\"],[0.6666666666666666,\"#ed7953\"],[0.7777777777777778,\"#fb9f3a\"],[0.8888888888888888,\"#fdca26\"],[1.0,\"#f0f921\"]],\"diverging\":[[0,\"#8e0152\"],[0.1,\"#c51b7d\"],[0.2,\"#de77ae\"],[0.3,\"#f1b6da\"],[0.4,\"#fde0ef\"],[0.5,\"#f7f7f7\"],[0.6,\"#e6f5d0\"],[0.7,\"#b8e186\"],[0.8,\"#7fbc41\"],[0.9,\"#4d9221\"],[1,\"#276419\"]]},\"xaxis\":{\"gridcolor\":\"white\",\"linecolor\":\"white\",\"ticks\":\"\",\"title\":{\"standoff\":15},\"zerolinecolor\":\"white\",\"automargin\":true,\"zerolinewidth\":2},\"yaxis\":{\"gridcolor\":\"white\",\"linecolor\":\"white\",\"ticks\":\"\",\"title\":{\"standoff\":15},\"zerolinecolor\":\"white\",\"automargin\":true,\"zerolinewidth\":2},\"scene\":{\"xaxis\":{\"backgroundcolor\":\"#E5ECF6\",\"gridcolor\":\"white\",\"linecolor\":\"white\",\"showbackground\":true,\"ticks\":\"\",\"zerolinecolor\":\"white\",\"gridwidth\":2},\"yaxis\":{\"backgroundcolor\":\"#E5ECF6\",\"gridcolor\":\"white\",\"linecolor\":\"white\",\"showbackground\":true,\"ticks\":\"\",\"zerolinecolor\":\"white\",\"gridwidth\":2},\"zaxis\":{\"backgroundcolor\":\"#E5ECF6\",\"gridcolor\":\"white\",\"linecolor\":\"white\",\"showbackground\":true,\"ticks\":\"\",\"zerolinecolor\":\"white\",\"gridwidth\":2}},\"shapedefaults\":{\"line\":{\"color\":\"#2a3f5f\"}},\"annotationdefaults\":{\"arrowcolor\":\"#2a3f5f\",\"arrowhead\":0,\"arrowwidth\":1},\"geo\":{\"bgcolor\":\"white\",\"landcolor\":\"#E5ECF6\",\"subunitcolor\":\"white\",\"showland\":true,\"showlakes\":true,\"lakecolor\":\"white\"},\"title\":{\"x\":0.05},\"mapbox\":{\"style\":\"light\"}}},\"map\":{\"domain\":{\"x\":[0.0,1.0],\"y\":[0.0,1.0]},\"center\":{\"lat\":32.697518286715336,\"lon\":-120.31679520035583},\"zoom\":7,\"style\":\"open-street-map\"},\"legend\":{\"tracegroupgap\":0},\"margin\":{\"t\":0,\"r\":0,\"l\":0,\"b\":0},\"height\":500,\"mapbox\":{\"center\":{\"lat\":32.697518286715336,\"lon\":-120.31679520035583},\"zoom\":3}},                        {\"responsive\": true}                    ).then(function(){\n",
       "                            \n",
       "var gd = document.getElementById('7dbb4394-04b4-4d7e-b0e8-dfa06be62789');\n",
       "var x = new MutationObserver(function (mutations, observer) {{\n",
       "        var display = window.getComputedStyle(gd).display;\n",
       "        if (!display || display === 'none') {{\n",
       "            console.log([gd, 'removed!']);\n",
       "            Plotly.purge(gd);\n",
       "            observer.disconnect();\n",
       "        }}\n",
       "}});\n",
       "\n",
       "// Listen for the removal of the full notebook cells\n",
       "var notebookContainer = gd.closest('#notebook-container');\n",
       "if (notebookContainer) {{\n",
       "    x.observe(notebookContainer, {childList: true});\n",
       "}}\n",
       "\n",
       "// Listen for the clearing of the current output cell\n",
       "var outputEl = gd.closest('.output');\n",
       "if (outputEl) {{\n",
       "    x.observe(outputEl, {childList: true});\n",
       "}}\n",
       "\n",
       "                        })                };                });            </script>        </div>"
      ]
     },
     "metadata": {},
     "output_type": "display_data"
    }
   ],
   "source": [
    "import plotly.express\n",
    "fig = plotly.express.line_map(route, lat=\"lat\", lon=\"lng\", \n",
    "                              hover_name=\"date\",\n",
    "                              zoom=3, height=500)\n",
    "\n",
    "scatter_points = plotly.express.scatter_map(waypoints,    \n",
    "                lat=\"lat\",\n",
    "                lon=\"lng\",\n",
    "                hover_name=\"name\")\n",
    "fig.add_traces(scatter_points.data)\n",
    "\n",
    "fig.update_layout(map_style=\"open-street-map\", map_zoom=7, \n",
    "                  #map_center_lat = 33.9,\n",
    "                  #map_center_lon=-118.5,\n",
    "                  margin={\"r\":0,\"t\":0,\"l\":0,\"b\":0})\n",
    "\n",
    "fig.show()"
   ]
  },
  {
   "cell_type": "code",
   "execution_count": null,
   "id": "7f50775f-b3d8-48fa-a0bb-400be8b01520",
   "metadata": {},
   "outputs": [],
   "source": []
  }
 ],
 "metadata": {
  "kernelspec": {
   "display_name": "Python 3 (ipykernel)",
   "language": "python",
   "name": "python3"
  },
  "language_info": {
   "codemirror_mode": {
    "name": "ipython",
    "version": 3
   },
   "file_extension": ".py",
   "mimetype": "text/x-python",
   "name": "python",
   "nbconvert_exporter": "python",
   "pygments_lexer": "ipython3",
   "version": "3.13.0"
  }
 },
 "nbformat": 4,
 "nbformat_minor": 5
}
